{
 "cells": [
  {
   "cell_type": "markdown",
   "id": "77331420",
   "metadata": {},
   "source": [
    "## Project Title\n",
    "\n",
    "* Sales and Profit Analysis of Retail Orders Dataset\n",
    "\n",
    "### Project Objective\n",
    "\n",
    "The objective of this project is to analyze sales, profit, and discount trends across different product categories, customer segments, and regions. By identifying key patterns, top-performing products, and the impact of discounts on profitability, this project aims to provide actionable insights for improving sales strategies, optimizing pricing, and maximizing business profit.\n",
    "\n",
    "* Improving sales strategies\n",
    "\n",
    "* Optimizing pricing\n",
    "\n",
    "* Maximizing business profit\n",
    "\n",
    "### Workflow Overview\n",
    "\n",
    "* Import useful libraries for Exploratory Data Analysis (EDA)\n",
    "\n",
    "* Load the dataset file\n",
    "\n",
    "* Check data types of each column and dataset structure\n",
    "\n",
    "* Summarize descriptive statistics\n",
    "\n",
    "* View rows and columns\n",
    "\n",
    "* List down all the column names\n",
    "\n",
    "* Correct inaccurate datatypes if necessary\n",
    "\n",
    "* Handle missing values in the dataset\n",
    "\n",
    "* Remove Duplicates into Data \n",
    "\n",
    "* Correlation \n",
    "\n",
    "* data Analysis And Visualazations "
   ]
  },
  {
   "cell_type": "markdown",
   "id": "d32f0b6c",
   "metadata": {},
   "source": [
    "# Project Start "
   ]
  },
  {
   "cell_type": "markdown",
   "id": "b33f7428",
   "metadata": {},
   "source": [
    "### 1) Import Usefull Libraries For EDA "
   ]
  },
  {
   "cell_type": "code",
   "execution_count": null,
   "id": "ab7b58fd",
   "metadata": {},
   "outputs": [],
   "source": [
    "import pandas as pd \n",
    "import numpy as np\n",
    "import matplotlib.pyplot as plt\n",
    "import seaborn as sns \n",
    "import warnings \n",
    "warnings.filterwarnings(\"ignore\")"
   ]
  },
  {
   "cell_type": "markdown",
   "id": "8d5d95bd",
   "metadata": {},
   "source": [
    "### 2) Load Your dataset File "
   ]
  },
  {
   "cell_type": "code",
   "execution_count": 4,
   "id": "44b2ef21",
   "metadata": {},
   "outputs": [
    {
     "data": {
      "text/html": [
       "<div>\n",
       "<style scoped>\n",
       "    .dataframe tbody tr th:only-of-type {\n",
       "        vertical-align: middle;\n",
       "    }\n",
       "\n",
       "    .dataframe tbody tr th {\n",
       "        vertical-align: top;\n",
       "    }\n",
       "\n",
       "    .dataframe thead th {\n",
       "        text-align: right;\n",
       "    }\n",
       "</style>\n",
       "<table border=\"1\" class=\"dataframe\">\n",
       "  <thead>\n",
       "    <tr style=\"text-align: right;\">\n",
       "      <th></th>\n",
       "      <th>Order ID</th>\n",
       "      <th>Customer Name</th>\n",
       "      <th>Category</th>\n",
       "      <th>Sub Category</th>\n",
       "      <th>City</th>\n",
       "      <th>Order Date</th>\n",
       "      <th>Region</th>\n",
       "      <th>Sales</th>\n",
       "      <th>Discount</th>\n",
       "      <th>Profit</th>\n",
       "      <th>State</th>\n",
       "    </tr>\n",
       "  </thead>\n",
       "  <tbody>\n",
       "    <tr>\n",
       "      <th>0</th>\n",
       "      <td>OD1</td>\n",
       "      <td>Harish</td>\n",
       "      <td>Oil &amp; Masala</td>\n",
       "      <td>Masalas</td>\n",
       "      <td>Vellore</td>\n",
       "      <td>11-08-2017</td>\n",
       "      <td>North</td>\n",
       "      <td>1254</td>\n",
       "      <td>0.12</td>\n",
       "      <td>401.28</td>\n",
       "      <td>Tamil Nadu</td>\n",
       "    </tr>\n",
       "    <tr>\n",
       "      <th>1</th>\n",
       "      <td>OD2</td>\n",
       "      <td>Sudha</td>\n",
       "      <td>Beverages</td>\n",
       "      <td>Health Drinks</td>\n",
       "      <td>Krishnagiri</td>\n",
       "      <td>11-08-2017</td>\n",
       "      <td>South</td>\n",
       "      <td>749</td>\n",
       "      <td>0.18</td>\n",
       "      <td>149.80</td>\n",
       "      <td>Tamil Nadu</td>\n",
       "    </tr>\n",
       "    <tr>\n",
       "      <th>2</th>\n",
       "      <td>OD3</td>\n",
       "      <td>Hussain</td>\n",
       "      <td>Food Grains</td>\n",
       "      <td>Atta &amp; Flour</td>\n",
       "      <td>Perambalur</td>\n",
       "      <td>06-12-2017</td>\n",
       "      <td>West</td>\n",
       "      <td>2360</td>\n",
       "      <td>0.21</td>\n",
       "      <td>165.20</td>\n",
       "      <td>Tamil Nadu</td>\n",
       "    </tr>\n",
       "    <tr>\n",
       "      <th>3</th>\n",
       "      <td>OD4</td>\n",
       "      <td>Jackson</td>\n",
       "      <td>Fruits &amp; Veggies</td>\n",
       "      <td>Fresh Vegetables</td>\n",
       "      <td>Dharmapuri</td>\n",
       "      <td>10-11-2016</td>\n",
       "      <td>South</td>\n",
       "      <td>896</td>\n",
       "      <td>0.25</td>\n",
       "      <td>89.60</td>\n",
       "      <td>Tamil Nadu</td>\n",
       "    </tr>\n",
       "    <tr>\n",
       "      <th>4</th>\n",
       "      <td>OD5</td>\n",
       "      <td>Ridhesh</td>\n",
       "      <td>Food Grains</td>\n",
       "      <td>Organic Staples</td>\n",
       "      <td>Ooty</td>\n",
       "      <td>10-11-2016</td>\n",
       "      <td>South</td>\n",
       "      <td>2355</td>\n",
       "      <td>0.26</td>\n",
       "      <td>918.45</td>\n",
       "      <td>Tamil Nadu</td>\n",
       "    </tr>\n",
       "    <tr>\n",
       "      <th>...</th>\n",
       "      <td>...</td>\n",
       "      <td>...</td>\n",
       "      <td>...</td>\n",
       "      <td>...</td>\n",
       "      <td>...</td>\n",
       "      <td>...</td>\n",
       "      <td>...</td>\n",
       "      <td>...</td>\n",
       "      <td>...</td>\n",
       "      <td>...</td>\n",
       "      <td>...</td>\n",
       "    </tr>\n",
       "    <tr>\n",
       "      <th>9989</th>\n",
       "      <td>OD9990</td>\n",
       "      <td>Sudeep</td>\n",
       "      <td>Eggs, Meat &amp; Fish</td>\n",
       "      <td>Eggs</td>\n",
       "      <td>Madurai</td>\n",
       "      <td>12/24/2015</td>\n",
       "      <td>West</td>\n",
       "      <td>945</td>\n",
       "      <td>0.16</td>\n",
       "      <td>359.10</td>\n",
       "      <td>Tamil Nadu</td>\n",
       "    </tr>\n",
       "    <tr>\n",
       "      <th>9990</th>\n",
       "      <td>OD9991</td>\n",
       "      <td>Alan</td>\n",
       "      <td>Bakery</td>\n",
       "      <td>Biscuits</td>\n",
       "      <td>Kanyakumari</td>\n",
       "      <td>07-12-2015</td>\n",
       "      <td>West</td>\n",
       "      <td>1195</td>\n",
       "      <td>0.26</td>\n",
       "      <td>71.70</td>\n",
       "      <td>Tamil Nadu</td>\n",
       "    </tr>\n",
       "    <tr>\n",
       "      <th>9991</th>\n",
       "      <td>OD9992</td>\n",
       "      <td>Ravi</td>\n",
       "      <td>Food Grains</td>\n",
       "      <td>Rice</td>\n",
       "      <td>Bodi</td>\n",
       "      <td>06-06-2017</td>\n",
       "      <td>West</td>\n",
       "      <td>1567</td>\n",
       "      <td>0.16</td>\n",
       "      <td>501.44</td>\n",
       "      <td>Tamil Nadu</td>\n",
       "    </tr>\n",
       "    <tr>\n",
       "      <th>9992</th>\n",
       "      <td>OD9993</td>\n",
       "      <td>Peer</td>\n",
       "      <td>Oil &amp; Masala</td>\n",
       "      <td>Spices</td>\n",
       "      <td>Pudukottai</td>\n",
       "      <td>10/16/2018</td>\n",
       "      <td>West</td>\n",
       "      <td>1659</td>\n",
       "      <td>0.15</td>\n",
       "      <td>597.24</td>\n",
       "      <td>Tamil Nadu</td>\n",
       "    </tr>\n",
       "    <tr>\n",
       "      <th>9993</th>\n",
       "      <td>OD9994</td>\n",
       "      <td>Ganesh</td>\n",
       "      <td>Food Grains</td>\n",
       "      <td>Atta &amp; Flour</td>\n",
       "      <td>Tirunelveli</td>\n",
       "      <td>4/17/2018</td>\n",
       "      <td>West</td>\n",
       "      <td>1034</td>\n",
       "      <td>0.28</td>\n",
       "      <td>165.44</td>\n",
       "      <td>Tamil Nadu</td>\n",
       "    </tr>\n",
       "  </tbody>\n",
       "</table>\n",
       "<p>9994 rows × 11 columns</p>\n",
       "</div>"
      ],
      "text/plain": [
       "     Order ID Customer Name           Category      Sub Category         City  \\\n",
       "0         OD1        Harish       Oil & Masala           Masalas      Vellore   \n",
       "1         OD2         Sudha          Beverages     Health Drinks  Krishnagiri   \n",
       "2         OD3       Hussain        Food Grains      Atta & Flour   Perambalur   \n",
       "3         OD4       Jackson   Fruits & Veggies  Fresh Vegetables   Dharmapuri   \n",
       "4         OD5       Ridhesh        Food Grains   Organic Staples         Ooty   \n",
       "...       ...           ...                ...               ...          ...   \n",
       "9989   OD9990        Sudeep  Eggs, Meat & Fish              Eggs      Madurai   \n",
       "9990   OD9991          Alan             Bakery          Biscuits  Kanyakumari   \n",
       "9991   OD9992          Ravi        Food Grains              Rice         Bodi   \n",
       "9992   OD9993          Peer       Oil & Masala            Spices   Pudukottai   \n",
       "9993   OD9994        Ganesh        Food Grains      Atta & Flour  Tirunelveli   \n",
       "\n",
       "      Order Date Region  Sales  Discount  Profit       State  \n",
       "0     11-08-2017  North   1254      0.12  401.28  Tamil Nadu  \n",
       "1     11-08-2017  South    749      0.18  149.80  Tamil Nadu  \n",
       "2     06-12-2017   West   2360      0.21  165.20  Tamil Nadu  \n",
       "3     10-11-2016  South    896      0.25   89.60  Tamil Nadu  \n",
       "4     10-11-2016  South   2355      0.26  918.45  Tamil Nadu  \n",
       "...          ...    ...    ...       ...     ...         ...  \n",
       "9989  12/24/2015   West    945      0.16  359.10  Tamil Nadu  \n",
       "9990  07-12-2015   West   1195      0.26   71.70  Tamil Nadu  \n",
       "9991  06-06-2017   West   1567      0.16  501.44  Tamil Nadu  \n",
       "9992  10/16/2018   West   1659      0.15  597.24  Tamil Nadu  \n",
       "9993   4/17/2018   West   1034      0.28  165.44  Tamil Nadu  \n",
       "\n",
       "[9994 rows x 11 columns]"
      ]
     },
     "execution_count": 4,
     "metadata": {},
     "output_type": "execute_result"
    }
   ],
   "source": [
    "data = pd.read_csv(r\"C:\\Users\\Lenovo\\Downloads\\Supermart Grocery Sales - Retail Analytics Dataset.csv\")\n",
    "data"
   ]
  },
  {
   "cell_type": "markdown",
   "id": "56cf4768",
   "metadata": {},
   "source": [
    "### 3) Cheak data types each Column and Data Structure "
   ]
  },
  {
   "cell_type": "code",
   "execution_count": 14,
   "id": "cdf2d025",
   "metadata": {},
   "outputs": [
    {
     "name": "stdout",
     "output_type": "stream",
     "text": [
      "<class 'pandas.core.frame.DataFrame'>\n",
      "RangeIndex: 9994 entries, 0 to 9993\n",
      "Data columns (total 11 columns):\n",
      " #   Column         Non-Null Count  Dtype  \n",
      "---  ------         --------------  -----  \n",
      " 0   Order ID       9994 non-null   object \n",
      " 1   Customer Name  9994 non-null   object \n",
      " 2   Category       9994 non-null   object \n",
      " 3   Sub Category   9994 non-null   object \n",
      " 4   City           9994 non-null   object \n",
      " 5   Order Date     9994 non-null   object \n",
      " 6   Region         9994 non-null   object \n",
      " 7   Sales          9994 non-null   int64  \n",
      " 8   Discount       9994 non-null   float64\n",
      " 9   Profit         9994 non-null   float64\n",
      " 10  State          9994 non-null   object \n",
      "dtypes: float64(2), int64(1), object(8)\n",
      "memory usage: 859.0+ KB\n"
     ]
    }
   ],
   "source": [
    "data.info()"
   ]
  },
  {
   "cell_type": "markdown",
   "id": "9d0e3f0d",
   "metadata": {},
   "source": [
    "### 4) Summurize Descraptive Statastic "
   ]
  },
  {
   "cell_type": "code",
   "execution_count": 4,
   "id": "e7349987",
   "metadata": {},
   "outputs": [
    {
     "data": {
      "text/html": [
       "<div>\n",
       "<style scoped>\n",
       "    .dataframe tbody tr th:only-of-type {\n",
       "        vertical-align: middle;\n",
       "    }\n",
       "\n",
       "    .dataframe tbody tr th {\n",
       "        vertical-align: top;\n",
       "    }\n",
       "\n",
       "    .dataframe thead th {\n",
       "        text-align: right;\n",
       "    }\n",
       "</style>\n",
       "<table border=\"1\" class=\"dataframe\">\n",
       "  <thead>\n",
       "    <tr style=\"text-align: right;\">\n",
       "      <th></th>\n",
       "      <th>Sales</th>\n",
       "      <th>Discount</th>\n",
       "      <th>Profit</th>\n",
       "    </tr>\n",
       "  </thead>\n",
       "  <tbody>\n",
       "    <tr>\n",
       "      <th>count</th>\n",
       "      <td>9994.000000</td>\n",
       "      <td>9994.000000</td>\n",
       "      <td>9994.000000</td>\n",
       "    </tr>\n",
       "    <tr>\n",
       "      <th>mean</th>\n",
       "      <td>1496.596158</td>\n",
       "      <td>0.226817</td>\n",
       "      <td>374.937082</td>\n",
       "    </tr>\n",
       "    <tr>\n",
       "      <th>std</th>\n",
       "      <td>577.559036</td>\n",
       "      <td>0.074636</td>\n",
       "      <td>239.932881</td>\n",
       "    </tr>\n",
       "    <tr>\n",
       "      <th>min</th>\n",
       "      <td>500.000000</td>\n",
       "      <td>0.100000</td>\n",
       "      <td>25.250000</td>\n",
       "    </tr>\n",
       "    <tr>\n",
       "      <th>25%</th>\n",
       "      <td>1000.000000</td>\n",
       "      <td>0.160000</td>\n",
       "      <td>180.022500</td>\n",
       "    </tr>\n",
       "    <tr>\n",
       "      <th>50%</th>\n",
       "      <td>1498.000000</td>\n",
       "      <td>0.230000</td>\n",
       "      <td>320.780000</td>\n",
       "    </tr>\n",
       "    <tr>\n",
       "      <th>75%</th>\n",
       "      <td>1994.750000</td>\n",
       "      <td>0.290000</td>\n",
       "      <td>525.627500</td>\n",
       "    </tr>\n",
       "    <tr>\n",
       "      <th>max</th>\n",
       "      <td>2500.000000</td>\n",
       "      <td>0.350000</td>\n",
       "      <td>1120.950000</td>\n",
       "    </tr>\n",
       "  </tbody>\n",
       "</table>\n",
       "</div>"
      ],
      "text/plain": [
       "             Sales     Discount       Profit\n",
       "count  9994.000000  9994.000000  9994.000000\n",
       "mean   1496.596158     0.226817   374.937082\n",
       "std     577.559036     0.074636   239.932881\n",
       "min     500.000000     0.100000    25.250000\n",
       "25%    1000.000000     0.160000   180.022500\n",
       "50%    1498.000000     0.230000   320.780000\n",
       "75%    1994.750000     0.290000   525.627500\n",
       "max    2500.000000     0.350000  1120.950000"
      ]
     },
     "execution_count": 4,
     "metadata": {},
     "output_type": "execute_result"
    }
   ],
   "source": [
    "data.describe()"
   ]
  },
  {
   "cell_type": "markdown",
   "id": "8b86e069",
   "metadata": {},
   "source": [
    "### 5) How to Look Rows And Column "
   ]
  },
  {
   "cell_type": "code",
   "execution_count": 5,
   "id": "a179bc4a",
   "metadata": {},
   "outputs": [
    {
     "data": {
      "text/plain": [
       "(9994, 11)"
      ]
     },
     "execution_count": 5,
     "metadata": {},
     "output_type": "execute_result"
    }
   ],
   "source": [
    "data.shape"
   ]
  },
  {
   "cell_type": "markdown",
   "id": "3190e51e",
   "metadata": {},
   "source": [
    "### 6) List Down All The Columns Name "
   ]
  },
  {
   "cell_type": "code",
   "execution_count": 3,
   "id": "a7279bc5",
   "metadata": {},
   "outputs": [
    {
     "name": "stdout",
     "output_type": "stream",
     "text": [
      "--------------------- Columns Names -----------------------\n"
     ]
    },
    {
     "data": {
      "text/plain": [
       "Index(['Order ID', 'Customer Name', 'Category', 'Sub Category', 'City',\n",
       "       'Order Date', 'Region', 'Sales', 'Discount', 'Profit', 'State'],\n",
       "      dtype='object')"
      ]
     },
     "execution_count": 3,
     "metadata": {},
     "output_type": "execute_result"
    }
   ],
   "source": [
    "## Know Columns Name In Your Dataset\n",
    "\n",
    "print(\"--------------------- Columns Names -----------------------\")\n",
    "data.columns"
   ]
  },
  {
   "cell_type": "markdown",
   "id": "ec7651d4",
   "metadata": {},
   "source": [
    "### 7) Define Accurate datatype If Column Datatype are Not Correct"
   ]
  },
  {
   "cell_type": "code",
   "execution_count": 4,
   "id": "458bc1db",
   "metadata": {},
   "outputs": [
    {
     "data": {
      "text/html": [
       "<div>\n",
       "<style scoped>\n",
       "    .dataframe tbody tr th:only-of-type {\n",
       "        vertical-align: middle;\n",
       "    }\n",
       "\n",
       "    .dataframe tbody tr th {\n",
       "        vertical-align: top;\n",
       "    }\n",
       "\n",
       "    .dataframe thead th {\n",
       "        text-align: right;\n",
       "    }\n",
       "</style>\n",
       "<table border=\"1\" class=\"dataframe\">\n",
       "  <thead>\n",
       "    <tr style=\"text-align: right;\">\n",
       "      <th></th>\n",
       "      <th>Order ID</th>\n",
       "      <th>Customer Name</th>\n",
       "      <th>Category</th>\n",
       "      <th>Sub Category</th>\n",
       "      <th>City</th>\n",
       "      <th>Order Date</th>\n",
       "      <th>Region</th>\n",
       "      <th>Sales</th>\n",
       "      <th>Discount</th>\n",
       "      <th>Profit</th>\n",
       "      <th>State</th>\n",
       "    </tr>\n",
       "  </thead>\n",
       "  <tbody>\n",
       "    <tr>\n",
       "      <th>0</th>\n",
       "      <td>OD1</td>\n",
       "      <td>Harish</td>\n",
       "      <td>Oil &amp; Masala</td>\n",
       "      <td>Masalas</td>\n",
       "      <td>Vellore</td>\n",
       "      <td>2017-08-11</td>\n",
       "      <td>North</td>\n",
       "      <td>1254</td>\n",
       "      <td>0.12</td>\n",
       "      <td>401.28</td>\n",
       "      <td>Tamil Nadu</td>\n",
       "    </tr>\n",
       "    <tr>\n",
       "      <th>1</th>\n",
       "      <td>OD2</td>\n",
       "      <td>Sudha</td>\n",
       "      <td>Beverages</td>\n",
       "      <td>Health Drinks</td>\n",
       "      <td>Krishnagiri</td>\n",
       "      <td>2017-08-11</td>\n",
       "      <td>South</td>\n",
       "      <td>749</td>\n",
       "      <td>0.18</td>\n",
       "      <td>149.80</td>\n",
       "      <td>Tamil Nadu</td>\n",
       "    </tr>\n",
       "    <tr>\n",
       "      <th>2</th>\n",
       "      <td>OD3</td>\n",
       "      <td>Hussain</td>\n",
       "      <td>Food Grains</td>\n",
       "      <td>Atta &amp; Flour</td>\n",
       "      <td>Perambalur</td>\n",
       "      <td>2017-12-06</td>\n",
       "      <td>West</td>\n",
       "      <td>2360</td>\n",
       "      <td>0.21</td>\n",
       "      <td>165.20</td>\n",
       "      <td>Tamil Nadu</td>\n",
       "    </tr>\n",
       "    <tr>\n",
       "      <th>3</th>\n",
       "      <td>OD4</td>\n",
       "      <td>Jackson</td>\n",
       "      <td>Fruits &amp; Veggies</td>\n",
       "      <td>Fresh Vegetables</td>\n",
       "      <td>Dharmapuri</td>\n",
       "      <td>2016-11-10</td>\n",
       "      <td>South</td>\n",
       "      <td>896</td>\n",
       "      <td>0.25</td>\n",
       "      <td>89.60</td>\n",
       "      <td>Tamil Nadu</td>\n",
       "    </tr>\n",
       "    <tr>\n",
       "      <th>4</th>\n",
       "      <td>OD5</td>\n",
       "      <td>Ridhesh</td>\n",
       "      <td>Food Grains</td>\n",
       "      <td>Organic Staples</td>\n",
       "      <td>Ooty</td>\n",
       "      <td>2016-11-10</td>\n",
       "      <td>South</td>\n",
       "      <td>2355</td>\n",
       "      <td>0.26</td>\n",
       "      <td>918.45</td>\n",
       "      <td>Tamil Nadu</td>\n",
       "    </tr>\n",
       "    <tr>\n",
       "      <th>...</th>\n",
       "      <td>...</td>\n",
       "      <td>...</td>\n",
       "      <td>...</td>\n",
       "      <td>...</td>\n",
       "      <td>...</td>\n",
       "      <td>...</td>\n",
       "      <td>...</td>\n",
       "      <td>...</td>\n",
       "      <td>...</td>\n",
       "      <td>...</td>\n",
       "      <td>...</td>\n",
       "    </tr>\n",
       "    <tr>\n",
       "      <th>9989</th>\n",
       "      <td>OD9990</td>\n",
       "      <td>Sudeep</td>\n",
       "      <td>Eggs, Meat &amp; Fish</td>\n",
       "      <td>Eggs</td>\n",
       "      <td>Madurai</td>\n",
       "      <td>2015-12-24</td>\n",
       "      <td>West</td>\n",
       "      <td>945</td>\n",
       "      <td>0.16</td>\n",
       "      <td>359.10</td>\n",
       "      <td>Tamil Nadu</td>\n",
       "    </tr>\n",
       "    <tr>\n",
       "      <th>9990</th>\n",
       "      <td>OD9991</td>\n",
       "      <td>Alan</td>\n",
       "      <td>Bakery</td>\n",
       "      <td>Biscuits</td>\n",
       "      <td>Kanyakumari</td>\n",
       "      <td>2015-12-07</td>\n",
       "      <td>West</td>\n",
       "      <td>1195</td>\n",
       "      <td>0.26</td>\n",
       "      <td>71.70</td>\n",
       "      <td>Tamil Nadu</td>\n",
       "    </tr>\n",
       "    <tr>\n",
       "      <th>9991</th>\n",
       "      <td>OD9992</td>\n",
       "      <td>Ravi</td>\n",
       "      <td>Food Grains</td>\n",
       "      <td>Rice</td>\n",
       "      <td>Bodi</td>\n",
       "      <td>2017-06-06</td>\n",
       "      <td>West</td>\n",
       "      <td>1567</td>\n",
       "      <td>0.16</td>\n",
       "      <td>501.44</td>\n",
       "      <td>Tamil Nadu</td>\n",
       "    </tr>\n",
       "    <tr>\n",
       "      <th>9992</th>\n",
       "      <td>OD9993</td>\n",
       "      <td>Peer</td>\n",
       "      <td>Oil &amp; Masala</td>\n",
       "      <td>Spices</td>\n",
       "      <td>Pudukottai</td>\n",
       "      <td>2018-10-16</td>\n",
       "      <td>West</td>\n",
       "      <td>1659</td>\n",
       "      <td>0.15</td>\n",
       "      <td>597.24</td>\n",
       "      <td>Tamil Nadu</td>\n",
       "    </tr>\n",
       "    <tr>\n",
       "      <th>9993</th>\n",
       "      <td>OD9994</td>\n",
       "      <td>Ganesh</td>\n",
       "      <td>Food Grains</td>\n",
       "      <td>Atta &amp; Flour</td>\n",
       "      <td>Tirunelveli</td>\n",
       "      <td>2018-04-17</td>\n",
       "      <td>West</td>\n",
       "      <td>1034</td>\n",
       "      <td>0.28</td>\n",
       "      <td>165.44</td>\n",
       "      <td>Tamil Nadu</td>\n",
       "    </tr>\n",
       "  </tbody>\n",
       "</table>\n",
       "<p>9994 rows × 11 columns</p>\n",
       "</div>"
      ],
      "text/plain": [
       "     Order ID Customer Name           Category      Sub Category         City  \\\n",
       "0         OD1        Harish       Oil & Masala           Masalas      Vellore   \n",
       "1         OD2         Sudha          Beverages     Health Drinks  Krishnagiri   \n",
       "2         OD3       Hussain        Food Grains      Atta & Flour   Perambalur   \n",
       "3         OD4       Jackson   Fruits & Veggies  Fresh Vegetables   Dharmapuri   \n",
       "4         OD5       Ridhesh        Food Grains   Organic Staples         Ooty   \n",
       "...       ...           ...                ...               ...          ...   \n",
       "9989   OD9990        Sudeep  Eggs, Meat & Fish              Eggs      Madurai   \n",
       "9990   OD9991          Alan             Bakery          Biscuits  Kanyakumari   \n",
       "9991   OD9992          Ravi        Food Grains              Rice         Bodi   \n",
       "9992   OD9993          Peer       Oil & Masala            Spices   Pudukottai   \n",
       "9993   OD9994        Ganesh        Food Grains      Atta & Flour  Tirunelveli   \n",
       "\n",
       "     Order Date Region  Sales  Discount  Profit       State  \n",
       "0    2017-08-11  North   1254      0.12  401.28  Tamil Nadu  \n",
       "1    2017-08-11  South    749      0.18  149.80  Tamil Nadu  \n",
       "2    2017-12-06   West   2360      0.21  165.20  Tamil Nadu  \n",
       "3    2016-11-10  South    896      0.25   89.60  Tamil Nadu  \n",
       "4    2016-11-10  South   2355      0.26  918.45  Tamil Nadu  \n",
       "...         ...    ...    ...       ...     ...         ...  \n",
       "9989 2015-12-24   West    945      0.16  359.10  Tamil Nadu  \n",
       "9990 2015-12-07   West   1195      0.26   71.70  Tamil Nadu  \n",
       "9991 2017-06-06   West   1567      0.16  501.44  Tamil Nadu  \n",
       "9992 2018-10-16   West   1659      0.15  597.24  Tamil Nadu  \n",
       "9993 2018-04-17   West   1034      0.28  165.44  Tamil Nadu  \n",
       "\n",
       "[9994 rows x 11 columns]"
      ]
     },
     "execution_count": 4,
     "metadata": {},
     "output_type": "execute_result"
    }
   ],
   "source": [
    "\n",
    "## Date Column have Not Proper Data Type difine Proper Data Type \n",
    "\n",
    "data[\"Order Date\"] = pd.to_datetime(data[\"Order Date\"],format=\"mixed\",dayfirst=True)\n",
    "\n",
    "data\n"
   ]
  },
  {
   "cell_type": "code",
   "execution_count": 7,
   "id": "bd200a77",
   "metadata": {},
   "outputs": [
    {
     "name": "stdout",
     "output_type": "stream",
     "text": [
      "<class 'pandas.core.frame.DataFrame'>\n",
      "RangeIndex: 9994 entries, 0 to 9993\n",
      "Data columns (total 11 columns):\n",
      " #   Column         Non-Null Count  Dtype         \n",
      "---  ------         --------------  -----         \n",
      " 0   Order ID       9994 non-null   object        \n",
      " 1   Customer Name  9994 non-null   object        \n",
      " 2   Category       9994 non-null   object        \n",
      " 3   Sub Category   9994 non-null   object        \n",
      " 4   City           9994 non-null   object        \n",
      " 5   Order Date     9994 non-null   datetime64[ns]\n",
      " 6   Region         9994 non-null   object        \n",
      " 7   Sales          9994 non-null   int64         \n",
      " 8   Discount       9994 non-null   float64       \n",
      " 9   Profit         9994 non-null   float64       \n",
      " 10  State          9994 non-null   object        \n",
      "dtypes: datetime64[ns](1), float64(2), int64(1), object(7)\n",
      "memory usage: 859.0+ KB\n"
     ]
    }
   ],
   "source": [
    "data.info()"
   ]
  },
  {
   "cell_type": "markdown",
   "id": "2a8bb66f",
   "metadata": {},
   "source": [
    "### 8) Missing Values In The Dataset "
   ]
  },
  {
   "cell_type": "code",
   "execution_count": 16,
   "id": "87d8ceaf",
   "metadata": {},
   "outputs": [
    {
     "data": {
      "text/plain": [
       "Order ID         0\n",
       "Customer Name    0\n",
       "Category         0\n",
       "Sub Category     0\n",
       "City             0\n",
       "Order Date       0\n",
       "Region           0\n",
       "Sales            0\n",
       "Discount         0\n",
       "Profit           0\n",
       "State            0\n",
       "dtype: int64"
      ]
     },
     "execution_count": 16,
     "metadata": {},
     "output_type": "execute_result"
    }
   ],
   "source": [
    "data.isnull().sum()"
   ]
  },
  {
   "cell_type": "markdown",
   "id": "c737501e",
   "metadata": {},
   "source": [
    "### Add New Column For Better Understanding "
   ]
  },
  {
   "cell_type": "code",
   "execution_count": null,
   "id": "ad23128f",
   "metadata": {},
   "outputs": [],
   "source": [
    "# Added New Column \n",
    "\n",
    "data.insert(9,\"Discount Price\",(data['Sales'])*(data['Discount']))"
   ]
  },
  {
   "cell_type": "code",
   "execution_count": 18,
   "id": "958727f7",
   "metadata": {},
   "outputs": [],
   "source": [
    "### Add Anothers Columns \n",
    "\n",
    "data[\"Year\"] = data[\"Order Date\"].dt.year\n",
    "data[\"Month\"] = data[\"Order Date\"].dt.month\n",
    "data[\"Day\"] = data[\"Order Date\"].dt.day\n"
   ]
  },
  {
   "cell_type": "code",
   "execution_count": 6,
   "id": "77039551",
   "metadata": {},
   "outputs": [],
   "source": [
    "data[\"Days\"] = data[\"Order Date\"].dt.day_name()\n"
   ]
  },
  {
   "cell_type": "markdown",
   "id": "4be59171",
   "metadata": {},
   "source": [
    "### 8) Duplicates Values In The Dataset "
   ]
  },
  {
   "cell_type": "code",
   "execution_count": 7,
   "id": "3a964bc6",
   "metadata": {},
   "outputs": [
    {
     "data": {
      "text/html": [
       "<div>\n",
       "<style scoped>\n",
       "    .dataframe tbody tr th:only-of-type {\n",
       "        vertical-align: middle;\n",
       "    }\n",
       "\n",
       "    .dataframe tbody tr th {\n",
       "        vertical-align: top;\n",
       "    }\n",
       "\n",
       "    .dataframe thead th {\n",
       "        text-align: right;\n",
       "    }\n",
       "</style>\n",
       "<table border=\"1\" class=\"dataframe\">\n",
       "  <thead>\n",
       "    <tr style=\"text-align: right;\">\n",
       "      <th></th>\n",
       "      <th>Order ID</th>\n",
       "      <th>Customer Name</th>\n",
       "      <th>Category</th>\n",
       "      <th>Sub Category</th>\n",
       "      <th>City</th>\n",
       "      <th>Order Date</th>\n",
       "      <th>Region</th>\n",
       "      <th>Sales</th>\n",
       "      <th>Discount</th>\n",
       "      <th>Discount Price</th>\n",
       "      <th>Profit</th>\n",
       "      <th>State</th>\n",
       "      <th>Days</th>\n",
       "    </tr>\n",
       "  </thead>\n",
       "  <tbody>\n",
       "    <tr>\n",
       "      <th>0</th>\n",
       "      <td>OD1</td>\n",
       "      <td>Harish</td>\n",
       "      <td>Oil &amp; Masala</td>\n",
       "      <td>Masalas</td>\n",
       "      <td>Vellore</td>\n",
       "      <td>2017-08-11</td>\n",
       "      <td>North</td>\n",
       "      <td>1254</td>\n",
       "      <td>0.12</td>\n",
       "      <td>150.48</td>\n",
       "      <td>401.28</td>\n",
       "      <td>Tamil Nadu</td>\n",
       "      <td>Friday</td>\n",
       "    </tr>\n",
       "    <tr>\n",
       "      <th>1</th>\n",
       "      <td>OD2</td>\n",
       "      <td>Sudha</td>\n",
       "      <td>Beverages</td>\n",
       "      <td>Health Drinks</td>\n",
       "      <td>Krishnagiri</td>\n",
       "      <td>2017-08-11</td>\n",
       "      <td>South</td>\n",
       "      <td>749</td>\n",
       "      <td>0.18</td>\n",
       "      <td>134.82</td>\n",
       "      <td>149.80</td>\n",
       "      <td>Tamil Nadu</td>\n",
       "      <td>Friday</td>\n",
       "    </tr>\n",
       "    <tr>\n",
       "      <th>2</th>\n",
       "      <td>OD3</td>\n",
       "      <td>Hussain</td>\n",
       "      <td>Food Grains</td>\n",
       "      <td>Atta &amp; Flour</td>\n",
       "      <td>Perambalur</td>\n",
       "      <td>2017-12-06</td>\n",
       "      <td>West</td>\n",
       "      <td>2360</td>\n",
       "      <td>0.21</td>\n",
       "      <td>495.60</td>\n",
       "      <td>165.20</td>\n",
       "      <td>Tamil Nadu</td>\n",
       "      <td>Wednesday</td>\n",
       "    </tr>\n",
       "    <tr>\n",
       "      <th>3</th>\n",
       "      <td>OD4</td>\n",
       "      <td>Jackson</td>\n",
       "      <td>Fruits &amp; Veggies</td>\n",
       "      <td>Fresh Vegetables</td>\n",
       "      <td>Dharmapuri</td>\n",
       "      <td>2016-11-10</td>\n",
       "      <td>South</td>\n",
       "      <td>896</td>\n",
       "      <td>0.25</td>\n",
       "      <td>224.00</td>\n",
       "      <td>89.60</td>\n",
       "      <td>Tamil Nadu</td>\n",
       "      <td>Thursday</td>\n",
       "    </tr>\n",
       "    <tr>\n",
       "      <th>4</th>\n",
       "      <td>OD5</td>\n",
       "      <td>Ridhesh</td>\n",
       "      <td>Food Grains</td>\n",
       "      <td>Organic Staples</td>\n",
       "      <td>Ooty</td>\n",
       "      <td>2016-11-10</td>\n",
       "      <td>South</td>\n",
       "      <td>2355</td>\n",
       "      <td>0.26</td>\n",
       "      <td>612.30</td>\n",
       "      <td>918.45</td>\n",
       "      <td>Tamil Nadu</td>\n",
       "      <td>Thursday</td>\n",
       "    </tr>\n",
       "    <tr>\n",
       "      <th>...</th>\n",
       "      <td>...</td>\n",
       "      <td>...</td>\n",
       "      <td>...</td>\n",
       "      <td>...</td>\n",
       "      <td>...</td>\n",
       "      <td>...</td>\n",
       "      <td>...</td>\n",
       "      <td>...</td>\n",
       "      <td>...</td>\n",
       "      <td>...</td>\n",
       "      <td>...</td>\n",
       "      <td>...</td>\n",
       "      <td>...</td>\n",
       "    </tr>\n",
       "    <tr>\n",
       "      <th>9989</th>\n",
       "      <td>OD9990</td>\n",
       "      <td>Sudeep</td>\n",
       "      <td>Eggs, Meat &amp; Fish</td>\n",
       "      <td>Eggs</td>\n",
       "      <td>Madurai</td>\n",
       "      <td>2015-12-24</td>\n",
       "      <td>West</td>\n",
       "      <td>945</td>\n",
       "      <td>0.16</td>\n",
       "      <td>151.20</td>\n",
       "      <td>359.10</td>\n",
       "      <td>Tamil Nadu</td>\n",
       "      <td>Thursday</td>\n",
       "    </tr>\n",
       "    <tr>\n",
       "      <th>9990</th>\n",
       "      <td>OD9991</td>\n",
       "      <td>Alan</td>\n",
       "      <td>Bakery</td>\n",
       "      <td>Biscuits</td>\n",
       "      <td>Kanyakumari</td>\n",
       "      <td>2015-12-07</td>\n",
       "      <td>West</td>\n",
       "      <td>1195</td>\n",
       "      <td>0.26</td>\n",
       "      <td>310.70</td>\n",
       "      <td>71.70</td>\n",
       "      <td>Tamil Nadu</td>\n",
       "      <td>Monday</td>\n",
       "    </tr>\n",
       "    <tr>\n",
       "      <th>9991</th>\n",
       "      <td>OD9992</td>\n",
       "      <td>Ravi</td>\n",
       "      <td>Food Grains</td>\n",
       "      <td>Rice</td>\n",
       "      <td>Bodi</td>\n",
       "      <td>2017-06-06</td>\n",
       "      <td>West</td>\n",
       "      <td>1567</td>\n",
       "      <td>0.16</td>\n",
       "      <td>250.72</td>\n",
       "      <td>501.44</td>\n",
       "      <td>Tamil Nadu</td>\n",
       "      <td>Tuesday</td>\n",
       "    </tr>\n",
       "    <tr>\n",
       "      <th>9992</th>\n",
       "      <td>OD9993</td>\n",
       "      <td>Peer</td>\n",
       "      <td>Oil &amp; Masala</td>\n",
       "      <td>Spices</td>\n",
       "      <td>Pudukottai</td>\n",
       "      <td>2018-10-16</td>\n",
       "      <td>West</td>\n",
       "      <td>1659</td>\n",
       "      <td>0.15</td>\n",
       "      <td>248.85</td>\n",
       "      <td>597.24</td>\n",
       "      <td>Tamil Nadu</td>\n",
       "      <td>Tuesday</td>\n",
       "    </tr>\n",
       "    <tr>\n",
       "      <th>9993</th>\n",
       "      <td>OD9994</td>\n",
       "      <td>Ganesh</td>\n",
       "      <td>Food Grains</td>\n",
       "      <td>Atta &amp; Flour</td>\n",
       "      <td>Tirunelveli</td>\n",
       "      <td>2018-04-17</td>\n",
       "      <td>West</td>\n",
       "      <td>1034</td>\n",
       "      <td>0.28</td>\n",
       "      <td>289.52</td>\n",
       "      <td>165.44</td>\n",
       "      <td>Tamil Nadu</td>\n",
       "      <td>Tuesday</td>\n",
       "    </tr>\n",
       "  </tbody>\n",
       "</table>\n",
       "<p>9994 rows × 13 columns</p>\n",
       "</div>"
      ],
      "text/plain": [
       "     Order ID Customer Name           Category      Sub Category         City  \\\n",
       "0         OD1        Harish       Oil & Masala           Masalas      Vellore   \n",
       "1         OD2         Sudha          Beverages     Health Drinks  Krishnagiri   \n",
       "2         OD3       Hussain        Food Grains      Atta & Flour   Perambalur   \n",
       "3         OD4       Jackson   Fruits & Veggies  Fresh Vegetables   Dharmapuri   \n",
       "4         OD5       Ridhesh        Food Grains   Organic Staples         Ooty   \n",
       "...       ...           ...                ...               ...          ...   \n",
       "9989   OD9990        Sudeep  Eggs, Meat & Fish              Eggs      Madurai   \n",
       "9990   OD9991          Alan             Bakery          Biscuits  Kanyakumari   \n",
       "9991   OD9992          Ravi        Food Grains              Rice         Bodi   \n",
       "9992   OD9993          Peer       Oil & Masala            Spices   Pudukottai   \n",
       "9993   OD9994        Ganesh        Food Grains      Atta & Flour  Tirunelveli   \n",
       "\n",
       "     Order Date Region  Sales  Discount  Discount Price  Profit       State  \\\n",
       "0    2017-08-11  North   1254      0.12          150.48  401.28  Tamil Nadu   \n",
       "1    2017-08-11  South    749      0.18          134.82  149.80  Tamil Nadu   \n",
       "2    2017-12-06   West   2360      0.21          495.60  165.20  Tamil Nadu   \n",
       "3    2016-11-10  South    896      0.25          224.00   89.60  Tamil Nadu   \n",
       "4    2016-11-10  South   2355      0.26          612.30  918.45  Tamil Nadu   \n",
       "...         ...    ...    ...       ...             ...     ...         ...   \n",
       "9989 2015-12-24   West    945      0.16          151.20  359.10  Tamil Nadu   \n",
       "9990 2015-12-07   West   1195      0.26          310.70   71.70  Tamil Nadu   \n",
       "9991 2017-06-06   West   1567      0.16          250.72  501.44  Tamil Nadu   \n",
       "9992 2018-10-16   West   1659      0.15          248.85  597.24  Tamil Nadu   \n",
       "9993 2018-04-17   West   1034      0.28          289.52  165.44  Tamil Nadu   \n",
       "\n",
       "           Days  \n",
       "0        Friday  \n",
       "1        Friday  \n",
       "2     Wednesday  \n",
       "3      Thursday  \n",
       "4      Thursday  \n",
       "...         ...  \n",
       "9989   Thursday  \n",
       "9990     Monday  \n",
       "9991    Tuesday  \n",
       "9992    Tuesday  \n",
       "9993    Tuesday  \n",
       "\n",
       "[9994 rows x 13 columns]"
      ]
     },
     "execution_count": 7,
     "metadata": {},
     "output_type": "execute_result"
    }
   ],
   "source": [
    "## Cheak Missing Values If Exists \n",
    "\n",
    "data.duplicated().sum()\n",
    "\n",
    "data.drop_duplicates()\n",
    "## No Duplicates Values Exists Our Dataset "
   ]
  },
  {
   "cell_type": "code",
   "execution_count": 8,
   "id": "85edbdb3",
   "metadata": {},
   "outputs": [
    {
     "data": {
      "text/plain": [
       "Index(['Order ID', 'Customer Name', 'Category', 'Sub Category', 'City',\n",
       "       'Order Date', 'Region', 'Sales', 'Discount', 'Discount Price', 'Profit',\n",
       "       'State', 'Days'],\n",
       "      dtype='object')"
      ]
     },
     "execution_count": 8,
     "metadata": {},
     "output_type": "execute_result"
    }
   ],
   "source": [
    "data.columns"
   ]
  },
  {
   "cell_type": "markdown",
   "id": "e135e757",
   "metadata": {},
   "source": [
    "### Find Outliers "
   ]
  },
  {
   "cell_type": "code",
   "execution_count": 19,
   "id": "2015ae95",
   "metadata": {},
   "outputs": [
    {
     "data": {
      "image/png": "[encoded data removed]",
      "text/plain": [
       "<Figure size 800x600 with 1 Axes>"
      ]
     },
     "metadata": {},
     "output_type": "display_data"
    },
    {
     "data": {
      "image/png": "[encoded data removed]",
      "text/plain": [
       "<Figure size 800x600 with 1 Axes>"
      ]
     },
     "metadata": {},
     "output_type": "display_data"
    },
    {
     "data": {
      "image/png": "[encoded data removed]",
      "text/plain": [
       "<Figure size 800x600 with 1 Axes>"
      ]
     },
     "metadata": {},
     "output_type": "display_data"
    },
    {
     "data": {
      "image/png": "[encoded data removed]",
      "text/plain": [
       "<Figure size 800x600 with 1 Axes>"
      ]
     },
     "metadata": {},
     "output_type": "display_data"
    },
    {
     "data": {
      "image/png": "[encoded data removed]",
      "text/plain": [
       "<Figure size 800x600 with 1 Axes>"
      ]
     },
     "metadata": {},
     "output_type": "display_data"
    },
    {
     "data": {
      "image/png": "[encoded data removed]",
      "text/plain": [
       "<Figure size 800x600 with 1 Axes>"
      ]
     },
     "metadata": {},
     "output_type": "display_data"
    },
    {
     "data": {
      "image/png": "[encoded data removed]",
      "text/plain": [
       "<Figure size 800x600 with 1 Axes>"
      ]
     },
     "metadata": {},
     "output_type": "display_data"
    }
   ],
   "source": [
    "numaric_columns = data.corr(numeric_only=True)\n",
    "\n",
    "for col in numaric_columns:\n",
    "    plt.figure(figsize=(8,6))\n",
    "    sns.boxplot(data[col])"
   ]
  },
  {
   "cell_type": "markdown",
   "id": "5a6c452d",
   "metadata": {},
   "source": [
    "### Remove Outliers Into Data "
   ]
  },
  {
   "cell_type": "code",
   "execution_count": null,
   "id": "003d4051",
   "metadata": {},
   "outputs": [],
   "source": [
    "## Profit Remove Outliers \n",
    "\n",
    "Q1 = data[\"Profit\"].quantile(0.25)\n",
    "\n",
    "Q3 = data[\"Profit\"].quantile(0.75)\n",
    "\n",
    "IQR = Q3 - Q1 \n",
    "\n",
    "Upper = Q3 + 1.5 * IQR \n",
    "Lower = Q1 - 1.5 * IQR \n",
    "\n",
    "Outliers = data[(data[\"Profit\"] < Lower) | (data[\"Profit\"] > Upper)]\n",
    "\n",
    "data.drop(Outliers.index,inplace=True)"
   ]
  },
  {
   "cell_type": "code",
   "execution_count": 54,
   "id": "e27ada37",
   "metadata": {},
   "outputs": [
    {
     "data": {
      "text/plain": [
       "<Axes: xlabel='Profit'>"
      ]
     },
     "execution_count": 54,
     "metadata": {},
     "output_type": "execute_result"
    },
    {
     "data": {
      "image/png": "[encoded data removed]",
      "text/plain": [
       "<Figure size 640x480 with 1 Axes>"
      ]
     },
     "metadata": {},
     "output_type": "display_data"
    }
   ],
   "source": [
    "sns.boxplot(x=data[\"Profit\"])"
   ]
  },
  {
   "cell_type": "code",
   "execution_count": 55,
   "id": "b2348c8e",
   "metadata": {},
   "outputs": [],
   "source": [
    "## Discount Price Remove Outliers \n",
    "\n",
    "Q1 = data[\"Discount Price\"].quantile(0.25)\n",
    "\n",
    "Q3 = data[\"Discount Price\"].quantile(0.75)\n",
    "\n",
    "IQR = Q3 - Q1 \n",
    "\n",
    "Upper = Q3 + 1.5 * IQR \n",
    "Lower = Q1 - 1.5 * IQR \n",
    "\n",
    "Outliers = data[(data[\"Discount Price\"] < Lower) | (data[\"Discount Price\"] > Upper)]\n",
    "\n",
    "data.drop(Outliers.index,inplace=True)"
   ]
  },
  {
   "cell_type": "code",
   "execution_count": 56,
   "id": "a50adfa3",
   "metadata": {},
   "outputs": [
    {
     "data": {
      "text/plain": [
       "<Axes: xlabel='Discount Price'>"
      ]
     },
     "execution_count": 56,
     "metadata": {},
     "output_type": "execute_result"
    },
    {
     "data": {
      "image/png": "[encoded data removed]",
      "text/plain": [
       "<Figure size 640x480 with 1 Axes>"
      ]
     },
     "metadata": {},
     "output_type": "display_data"
    }
   ],
   "source": [
    "sns.boxplot(x=data[\"Discount Price\"])"
   ]
  },
  {
   "cell_type": "markdown",
   "id": "9b1964fd",
   "metadata": {},
   "source": [
    "### Correlation"
   ]
  },
  {
   "cell_type": "code",
   "execution_count": 20,
   "id": "f99cb68f",
   "metadata": {},
   "outputs": [
    {
     "data": {
      "text/html": [
       "<div>\n",
       "<style scoped>\n",
       "    .dataframe tbody tr th:only-of-type {\n",
       "        vertical-align: middle;\n",
       "    }\n",
       "\n",
       "    .dataframe tbody tr th {\n",
       "        vertical-align: top;\n",
       "    }\n",
       "\n",
       "    .dataframe thead th {\n",
       "        text-align: right;\n",
       "    }\n",
       "</style>\n",
       "<table border=\"1\" class=\"dataframe\">\n",
       "  <thead>\n",
       "    <tr style=\"text-align: right;\">\n",
       "      <th></th>\n",
       "      <th>Sales</th>\n",
       "      <th>Discount</th>\n",
       "      <th>Discount Price</th>\n",
       "      <th>Profit</th>\n",
       "      <th>Year</th>\n",
       "      <th>Month</th>\n",
       "      <th>Day</th>\n",
       "    </tr>\n",
       "  </thead>\n",
       "  <tbody>\n",
       "    <tr>\n",
       "      <th>Sales</th>\n",
       "      <td>1.000000</td>\n",
       "      <td>-0.005512</td>\n",
       "      <td>0.737586</td>\n",
       "      <td>0.605349</td>\n",
       "      <td>0.007542</td>\n",
       "      <td>-0.012295</td>\n",
       "      <td>0.001544</td>\n",
       "    </tr>\n",
       "    <tr>\n",
       "      <th>Discount</th>\n",
       "      <td>-0.005512</td>\n",
       "      <td>1.000000</td>\n",
       "      <td>0.625540</td>\n",
       "      <td>0.000017</td>\n",
       "      <td>-0.018778</td>\n",
       "      <td>0.004886</td>\n",
       "      <td>0.002044</td>\n",
       "    </tr>\n",
       "    <tr>\n",
       "      <th>Discount Price</th>\n",
       "      <td>0.737586</td>\n",
       "      <td>0.625540</td>\n",
       "      <td>1.000000</td>\n",
       "      <td>0.446966</td>\n",
       "      <td>-0.001242</td>\n",
       "      <td>-0.004549</td>\n",
       "      <td>0.004117</td>\n",
       "    </tr>\n",
       "    <tr>\n",
       "      <th>Profit</th>\n",
       "      <td>0.605349</td>\n",
       "      <td>0.000017</td>\n",
       "      <td>0.446966</td>\n",
       "      <td>1.000000</td>\n",
       "      <td>-0.006401</td>\n",
       "      <td>-0.014923</td>\n",
       "      <td>0.019294</td>\n",
       "    </tr>\n",
       "    <tr>\n",
       "      <th>Year</th>\n",
       "      <td>0.007542</td>\n",
       "      <td>-0.018778</td>\n",
       "      <td>-0.001242</td>\n",
       "      <td>-0.006401</td>\n",
       "      <td>1.000000</td>\n",
       "      <td>-0.051889</td>\n",
       "      <td>-0.005100</td>\n",
       "    </tr>\n",
       "    <tr>\n",
       "      <th>Month</th>\n",
       "      <td>-0.012295</td>\n",
       "      <td>0.004886</td>\n",
       "      <td>-0.004549</td>\n",
       "      <td>-0.014923</td>\n",
       "      <td>-0.051889</td>\n",
       "      <td>1.000000</td>\n",
       "      <td>0.155658</td>\n",
       "    </tr>\n",
       "    <tr>\n",
       "      <th>Day</th>\n",
       "      <td>0.001544</td>\n",
       "      <td>0.002044</td>\n",
       "      <td>0.004117</td>\n",
       "      <td>0.019294</td>\n",
       "      <td>-0.005100</td>\n",
       "      <td>0.155658</td>\n",
       "      <td>1.000000</td>\n",
       "    </tr>\n",
       "  </tbody>\n",
       "</table>\n",
       "</div>"
      ],
      "text/plain": [
       "                   Sales  Discount  Discount Price    Profit      Year  \\\n",
       "Sales           1.000000 -0.005512        0.737586  0.605349  0.007542   \n",
       "Discount       -0.005512  1.000000        0.625540  0.000017 -0.018778   \n",
       "Discount Price  0.737586  0.625540        1.000000  0.446966 -0.001242   \n",
       "Profit          0.605349  0.000017        0.446966  1.000000 -0.006401   \n",
       "Year            0.007542 -0.018778       -0.001242 -0.006401  1.000000   \n",
       "Month          -0.012295  0.004886       -0.004549 -0.014923 -0.051889   \n",
       "Day             0.001544  0.002044        0.004117  0.019294 -0.005100   \n",
       "\n",
       "                   Month       Day  \n",
       "Sales          -0.012295  0.001544  \n",
       "Discount        0.004886  0.002044  \n",
       "Discount Price -0.004549  0.004117  \n",
       "Profit         -0.014923  0.019294  \n",
       "Year           -0.051889 -0.005100  \n",
       "Month           1.000000  0.155658  \n",
       "Day             0.155658  1.000000  "
      ]
     },
     "execution_count": 20,
     "metadata": {},
     "output_type": "execute_result"
    }
   ],
   "source": [
    "data_corr = data.corr(numeric_only=True)\n",
    "\n",
    "data_corr"
   ]
  },
  {
   "cell_type": "code",
   "execution_count": 21,
   "id": "6b20ee2e",
   "metadata": {},
   "outputs": [
    {
     "data": {
      "text/plain": [
       "<Axes: >"
      ]
     },
     "execution_count": 21,
     "metadata": {},
     "output_type": "execute_result"
    },
    {
     "data": {
      "image/png": "[encoded data removed]",
      "text/plain": [
       "<Figure size 640x480 with 2 Axes>"
      ]
     },
     "metadata": {},
     "output_type": "display_data"
    }
   ],
   "source": [
    "## Visualaze Using Heatmap\n",
    "\n",
    "sns.heatmap(data_corr,annot=True)"
   ]
  },
  {
   "cell_type": "markdown",
   "id": "b3fa9acb",
   "metadata": {},
   "source": [
    "## 📊 Sales & Revenue Analysis"
   ]
  },
  {
   "cell_type": "code",
   "execution_count": 22,
   "id": "4625479b",
   "metadata": {},
   "outputs": [
    {
     "data": {
      "text/html": [
       "<div>\n",
       "<style scoped>\n",
       "    .dataframe tbody tr th:only-of-type {\n",
       "        vertical-align: middle;\n",
       "    }\n",
       "\n",
       "    .dataframe tbody tr th {\n",
       "        vertical-align: top;\n",
       "    }\n",
       "\n",
       "    .dataframe thead th {\n",
       "        text-align: right;\n",
       "    }\n",
       "</style>\n",
       "<table border=\"1\" class=\"dataframe\">\n",
       "  <thead>\n",
       "    <tr style=\"text-align: right;\">\n",
       "      <th></th>\n",
       "      <th>Year</th>\n",
       "      <th>Sales</th>\n",
       "      <th>Discount</th>\n",
       "      <th>Profit</th>\n",
       "    </tr>\n",
       "  </thead>\n",
       "  <tbody>\n",
       "    <tr>\n",
       "      <th>0</th>\n",
       "      <td>2015</td>\n",
       "      <td>2975599</td>\n",
       "      <td>456.06</td>\n",
       "      <td>752529.11</td>\n",
       "    </tr>\n",
       "    <tr>\n",
       "      <th>1</th>\n",
       "      <td>2016</td>\n",
       "      <td>3131959</td>\n",
       "      <td>477.91</td>\n",
       "      <td>797192.99</td>\n",
       "    </tr>\n",
       "    <tr>\n",
       "      <th>2</th>\n",
       "      <td>2017</td>\n",
       "      <td>3871912</td>\n",
       "      <td>588.19</td>\n",
       "      <td>953216.22</td>\n",
       "    </tr>\n",
       "    <tr>\n",
       "      <th>3</th>\n",
       "      <td>2018</td>\n",
       "      <td>4977512</td>\n",
       "      <td>744.65</td>\n",
       "      <td>1244182.88</td>\n",
       "    </tr>\n",
       "  </tbody>\n",
       "</table>\n",
       "</div>"
      ],
      "text/plain": [
       "   Year    Sales  Discount      Profit\n",
       "0  2015  2975599    456.06   752529.11\n",
       "1  2016  3131959    477.91   797192.99\n",
       "2  2017  3871912    588.19   953216.22\n",
       "3  2018  4977512    744.65  1244182.88"
      ]
     },
     "execution_count": 22,
     "metadata": {},
     "output_type": "execute_result"
    }
   ],
   "source": [
    "## 1) What is the total sales, profit, and discount given in each year ?\n",
    "\n",
    "Yearly_summary = data.groupby(\"Year\")[[\"Sales\",\"Discount\",\"Profit\"]].sum().reset_index()\n",
    "\n",
    "Yearly_summary.columns = [\"Year\",\"Sales\",\"Discount\",\"Profit\"]\n",
    "\n",
    "Yearly_summary\n",
    "\n"
   ]
  },
  {
   "cell_type": "code",
   "execution_count": 23,
   "id": "c650e719",
   "metadata": {},
   "outputs": [
    {
     "data": {
      "text/plain": [
       "<Axes: >"
      ]
     },
     "execution_count": 23,
     "metadata": {},
     "output_type": "execute_result"
    },
    {
     "data": {
      "image/png": "[encoded data removed]",
      "text/plain": [
       "<Figure size 640x480 with 2 Axes>"
      ]
     },
     "metadata": {},
     "output_type": "display_data"
    }
   ],
   "source": [
    "sns.heatmap(data=Yearly_summary,annot=True)"
   ]
  },
  {
   "cell_type": "code",
   "execution_count": 24,
   "id": "c27415e6",
   "metadata": {},
   "outputs": [
    {
     "data": {
      "text/html": [
       "<div>\n",
       "<style scoped>\n",
       "    .dataframe tbody tr th:only-of-type {\n",
       "        vertical-align: middle;\n",
       "    }\n",
       "\n",
       "    .dataframe tbody tr th {\n",
       "        vertical-align: top;\n",
       "    }\n",
       "\n",
       "    .dataframe thead th {\n",
       "        text-align: right;\n",
       "    }\n",
       "</style>\n",
       "<table border=\"1\" class=\"dataframe\">\n",
       "  <thead>\n",
       "    <tr style=\"text-align: right;\">\n",
       "      <th></th>\n",
       "      <th></th>\n",
       "      <th>Sales</th>\n",
       "      <th>Profit</th>\n",
       "    </tr>\n",
       "    <tr>\n",
       "      <th>Category</th>\n",
       "      <th>Sub Category</th>\n",
       "      <th></th>\n",
       "      <th></th>\n",
       "    </tr>\n",
       "  </thead>\n",
       "  <tbody>\n",
       "    <tr>\n",
       "      <th rowspan=\"2\" valign=\"top\">Beverages</th>\n",
       "      <th>Health Drinks</th>\n",
       "      <td>1051439</td>\n",
       "      <td>267469.79</td>\n",
       "    </tr>\n",
       "    <tr>\n",
       "      <th>Soft Drinks</th>\n",
       "      <td>1033874</td>\n",
       "      <td>258135.97</td>\n",
       "    </tr>\n",
       "    <tr>\n",
       "      <th>Snacks</th>\n",
       "      <th>Cookies</th>\n",
       "      <td>768213</td>\n",
       "      <td>190643.70</td>\n",
       "    </tr>\n",
       "    <tr>\n",
       "      <th>Bakery</th>\n",
       "      <th>Breads &amp; Buns</th>\n",
       "      <td>742586</td>\n",
       "      <td>190764.98</td>\n",
       "    </tr>\n",
       "    <tr>\n",
       "      <th rowspan=\"2\" valign=\"top\">Snacks</th>\n",
       "      <th>Noodles</th>\n",
       "      <td>735435</td>\n",
       "      <td>193685.81</td>\n",
       "    </tr>\n",
       "    <tr>\n",
       "      <th>Chocolates</th>\n",
       "      <td>733898</td>\n",
       "      <td>183849.34</td>\n",
       "    </tr>\n",
       "    <tr>\n",
       "      <th>Oil &amp; Masala</th>\n",
       "      <th>Masalas</th>\n",
       "      <td>697480</td>\n",
       "      <td>168999.11</td>\n",
       "    </tr>\n",
       "    <tr>\n",
       "      <th rowspan=\"2\" valign=\"top\">Bakery</th>\n",
       "      <th>Cakes</th>\n",
       "      <td>685612</td>\n",
       "      <td>168398.46</td>\n",
       "    </tr>\n",
       "    <tr>\n",
       "      <th>Biscuits</th>\n",
       "      <td>684083</td>\n",
       "      <td>169357.62</td>\n",
       "    </tr>\n",
       "    <tr>\n",
       "      <th>Oil &amp; Masala</th>\n",
       "      <th>Spices</th>\n",
       "      <td>672876</td>\n",
       "      <td>160302.60</td>\n",
       "    </tr>\n",
       "  </tbody>\n",
       "</table>\n",
       "</div>"
      ],
      "text/plain": [
       "                              Sales     Profit\n",
       "Category     Sub Category                     \n",
       "Beverages    Health Drinks  1051439  267469.79\n",
       "             Soft Drinks    1033874  258135.97\n",
       "Snacks       Cookies         768213  190643.70\n",
       "Bakery       Breads & Buns   742586  190764.98\n",
       "Snacks       Noodles         735435  193685.81\n",
       "             Chocolates      733898  183849.34\n",
       "Oil & Masala Masalas         697480  168999.11\n",
       "Bakery       Cakes           685612  168398.46\n",
       "             Biscuits        684083  169357.62\n",
       "Oil & Masala Spices          672876  160302.60"
      ]
     },
     "execution_count": 24,
     "metadata": {},
     "output_type": "execute_result"
    }
   ],
   "source": [
    "## 2) Which category and sub-category generates the highest sales and profit ?\n",
    "\n",
    "Highest_revenue = data.groupby([\"Category\",\"Sub Category\"])[[\"Sales\",\"Profit\"]].sum().sort_values(by=[\"Sales\",\"Profit\"],ascending= False)\n",
    "\n",
    "Highest_revenue.head(10)\n"
   ]
  },
  {
   "cell_type": "code",
   "execution_count": 25,
   "id": "4f87f801",
   "metadata": {},
   "outputs": [
    {
     "data": {
      "text/plain": [
       "Text(0.5, 1.0, 'Sales by Category & Sub-Category')"
      ]
     },
     "execution_count": 25,
     "metadata": {},
     "output_type": "execute_result"
    },
    {
     "data": {
      "image/png": "[encoded data removed]",
      "text/plain": [
       "<Figure size 1200x600 with 1 Axes>"
      ]
     },
     "metadata": {},
     "output_type": "display_data"
    }
   ],
   "source": [
    "\n",
    "plt.figure(figsize=(12,6))\n",
    "sns.barplot(data=Highest_revenue, \n",
    "            x=\"Sub Category\", y=\"Sales\", hue=\"Category\")\n",
    "plt.xticks(rotation=45)\n",
    "plt.title(\"Sales by Category & Sub-Category\")\n",
    "\n"
   ]
  },
  {
   "cell_type": "code",
   "execution_count": 28,
   "id": "59567694",
   "metadata": {},
   "outputs": [
    {
     "data": {
      "text/html": [
       "<div>\n",
       "<style scoped>\n",
       "    .dataframe tbody tr th:only-of-type {\n",
       "        vertical-align: middle;\n",
       "    }\n",
       "\n",
       "    .dataframe tbody tr th {\n",
       "        vertical-align: top;\n",
       "    }\n",
       "\n",
       "    .dataframe thead th {\n",
       "        text-align: right;\n",
       "    }\n",
       "</style>\n",
       "<table border=\"1\" class=\"dataframe\">\n",
       "  <thead>\n",
       "    <tr style=\"text-align: right;\">\n",
       "      <th></th>\n",
       "      <th>Region</th>\n",
       "      <th>Sales</th>\n",
       "    </tr>\n",
       "  </thead>\n",
       "  <tbody>\n",
       "    <tr>\n",
       "      <th>0</th>\n",
       "      <td>Central</td>\n",
       "      <td>1492.964270</td>\n",
       "    </tr>\n",
       "    <tr>\n",
       "      <th>1</th>\n",
       "      <td>East</td>\n",
       "      <td>1491.702247</td>\n",
       "    </tr>\n",
       "    <tr>\n",
       "      <th>2</th>\n",
       "      <td>North</td>\n",
       "      <td>1254.000000</td>\n",
       "    </tr>\n",
       "    <tr>\n",
       "      <th>3</th>\n",
       "      <td>South</td>\n",
       "      <td>1507.387894</td>\n",
       "    </tr>\n",
       "    <tr>\n",
       "      <th>4</th>\n",
       "      <td>West</td>\n",
       "      <td>1498.202623</td>\n",
       "    </tr>\n",
       "  </tbody>\n",
       "</table>\n",
       "</div>"
      ],
      "text/plain": [
       "    Region        Sales\n",
       "0  Central  1492.964270\n",
       "1     East  1491.702247\n",
       "2    North  1254.000000\n",
       "3    South  1507.387894\n",
       "4     West  1498.202623"
      ]
     },
     "execution_count": 28,
     "metadata": {},
     "output_type": "execute_result"
    }
   ],
   "source": [
    "# 3) Average sales per order (AOV) across regions\n",
    "\n",
    "AOV_by_region = (\n",
    "    data.groupby(\"Region\")\n",
    "        .apply(lambda x: x[\"Sales\"].sum() / x[\"Order ID\"].nunique())\n",
    "        .reset_index(name=\"Average_Sales_Per_Order\")\n",
    ")\n",
    "\n",
    "AOV_by_region.columns = [\"Region\",\"Sales\"]\n",
    "\n",
    "AOV_by_region"
   ]
  },
  {
   "cell_type": "code",
   "execution_count": 29,
   "id": "507c579a",
   "metadata": {},
   "outputs": [
    {
     "data": {
      "text/plain": [
       "<Axes: xlabel='Region', ylabel='Sales'>"
      ]
     },
     "execution_count": 29,
     "metadata": {},
     "output_type": "execute_result"
    },
    {
     "data": {
      "image/png": "[encoded data removed]",
      "text/plain": [
       "<Figure size 640x480 with 1 Axes>"
      ]
     },
     "metadata": {},
     "output_type": "display_data"
    }
   ],
   "source": [
    "sns.barplot(data= AOV_by_region,x=\"Region\",y=\"Sales\",palette=\"rainbow\")"
   ]
  },
  {
   "cell_type": "code",
   "execution_count": 30,
   "id": "e286a310",
   "metadata": {},
   "outputs": [
    {
     "name": "stdout",
     "output_type": "stream",
     "text": [
      "3390124.55 Rs\n"
     ]
    }
   ],
   "source": [
    "## 4) How much revenue loss due to discounts has occurred ?\n",
    "\n",
    "\n",
    "# Total revenue loss due to discounts\n",
    "print(data[\"Discount Price\"].sum().round(2),\"Rs\")"
   ]
  },
  {
   "cell_type": "code",
   "execution_count": 74,
   "id": "a04d0d42",
   "metadata": {},
   "outputs": [
    {
     "data": {
      "text/html": [
       "<div>\n",
       "<style scoped>\n",
       "    .dataframe tbody tr th:only-of-type {\n",
       "        vertical-align: middle;\n",
       "    }\n",
       "\n",
       "    .dataframe tbody tr th {\n",
       "        vertical-align: top;\n",
       "    }\n",
       "\n",
       "    .dataframe thead th {\n",
       "        text-align: right;\n",
       "    }\n",
       "</style>\n",
       "<table border=\"1\" class=\"dataframe\">\n",
       "  <thead>\n",
       "    <tr style=\"text-align: right;\">\n",
       "      <th></th>\n",
       "      <th>City</th>\n",
       "      <th>Sales</th>\n",
       "    </tr>\n",
       "  </thead>\n",
       "  <tbody>\n",
       "    <tr>\n",
       "      <th>6</th>\n",
       "      <td>Kanyakumari</td>\n",
       "      <td>706764</td>\n",
       "    </tr>\n",
       "  </tbody>\n",
       "</table>\n",
       "</div>"
      ],
      "text/plain": [
       "          City   Sales\n",
       "6  Kanyakumari  706764"
      ]
     },
     "execution_count": 74,
     "metadata": {},
     "output_type": "execute_result"
    }
   ],
   "source": [
    "## 5) Which cities or regions contribute the most to revenue ?\n",
    "\n",
    "Highest_city_Revenue = data.groupby(\"City\")[\"Sales\"].sum().reset_index().sort_values(by='Sales',ascending=False)\n",
    "Highest_city_Revenue.columns = [\"City\",\"Sales\"]\n",
    "Highest_city_Revenue.head(1)"
   ]
  },
  {
   "cell_type": "code",
   "execution_count": 75,
   "id": "37c0430c",
   "metadata": {},
   "outputs": [
    {
     "data": {
      "text/plain": [
       "Text(0.5, 1.0, 'Sales by Category & Sub-Category')"
      ]
     },
     "execution_count": 75,
     "metadata": {},
     "output_type": "execute_result"
    },
    {
     "data": {
      "image/png": "[encoded data removed]",
      "text/plain": [
       "<Figure size 1200x600 with 1 Axes>"
      ]
     },
     "metadata": {},
     "output_type": "display_data"
    }
   ],
   "source": [
    "plt.figure(figsize=(12,6))\n",
    "sns.barplot(data=Highest_city_Revenue, \n",
    "            x=\"City\", y=\"Sales\",palette=\"rainbow\")\n",
    "plt.xticks(rotation=45)\n",
    "plt.title(\"Sales by Category & Sub-Category\")"
   ]
  },
  {
   "cell_type": "markdown",
   "id": "23cea824",
   "metadata": {},
   "source": [
    "## 📦 Customer & Product Insights"
   ]
  },
  {
   "cell_type": "code",
   "execution_count": 31,
   "id": "d774234a",
   "metadata": {},
   "outputs": [
    {
     "data": {
      "text/html": [
       "<div>\n",
       "<style scoped>\n",
       "    .dataframe tbody tr th:only-of-type {\n",
       "        vertical-align: middle;\n",
       "    }\n",
       "\n",
       "    .dataframe tbody tr th {\n",
       "        vertical-align: top;\n",
       "    }\n",
       "\n",
       "    .dataframe thead th {\n",
       "        text-align: right;\n",
       "    }\n",
       "</style>\n",
       "<table border=\"1\" class=\"dataframe\">\n",
       "  <thead>\n",
       "    <tr style=\"text-align: right;\">\n",
       "      <th></th>\n",
       "      <th>Sales</th>\n",
       "      <th>Profit</th>\n",
       "    </tr>\n",
       "    <tr>\n",
       "      <th>Customer Name</th>\n",
       "      <th></th>\n",
       "      <th></th>\n",
       "    </tr>\n",
       "  </thead>\n",
       "  <tbody>\n",
       "    <tr>\n",
       "      <th>Krithika</th>\n",
       "      <td>334361</td>\n",
       "      <td>85633.03</td>\n",
       "    </tr>\n",
       "    <tr>\n",
       "      <th>Amrish</th>\n",
       "      <td>333351</td>\n",
       "      <td>80191.89</td>\n",
       "    </tr>\n",
       "    <tr>\n",
       "      <th>Verma</th>\n",
       "      <td>331665</td>\n",
       "      <td>79096.53</td>\n",
       "    </tr>\n",
       "    <tr>\n",
       "      <th>Arutra</th>\n",
       "      <td>325720</td>\n",
       "      <td>87572.40</td>\n",
       "    </tr>\n",
       "    <tr>\n",
       "      <th>Vidya</th>\n",
       "      <td>321798</td>\n",
       "      <td>86725.64</td>\n",
       "    </tr>\n",
       "    <tr>\n",
       "      <th>Vinne</th>\n",
       "      <td>319565</td>\n",
       "      <td>79873.12</td>\n",
       "    </tr>\n",
       "    <tr>\n",
       "      <th>Shah</th>\n",
       "      <td>318588</td>\n",
       "      <td>73786.22</td>\n",
       "    </tr>\n",
       "    <tr>\n",
       "      <th>Suresh</th>\n",
       "      <td>315973</td>\n",
       "      <td>77450.88</td>\n",
       "    </tr>\n",
       "    <tr>\n",
       "      <th>Adavan</th>\n",
       "      <td>315341</td>\n",
       "      <td>78044.29</td>\n",
       "    </tr>\n",
       "    <tr>\n",
       "      <th>Surya</th>\n",
       "      <td>312645</td>\n",
       "      <td>80996.85</td>\n",
       "    </tr>\n",
       "  </tbody>\n",
       "</table>\n",
       "</div>"
      ],
      "text/plain": [
       "                Sales    Profit\n",
       "Customer Name                  \n",
       "Krithika       334361  85633.03\n",
       "Amrish         333351  80191.89\n",
       "Verma          331665  79096.53\n",
       "Arutra         325720  87572.40\n",
       "Vidya          321798  86725.64\n",
       "Vinne          319565  79873.12\n",
       "Shah           318588  73786.22\n",
       "Suresh         315973  77450.88\n",
       "Adavan         315341  78044.29\n",
       "Surya          312645  80996.85"
      ]
     },
     "execution_count": 31,
     "metadata": {},
     "output_type": "execute_result"
    }
   ],
   "source": [
    "## 6) Who are the top 10 customers by sales and profit contribution ?\n",
    "\n",
    "Top_10 = data.groupby(\"Customer Name\")[[\"Sales\",\"Profit\"]].sum().sort_values(by=[\"Sales\",\"Profit\"],ascending= False).head(10)\n",
    "\n",
    "Top_10"
   ]
  },
  {
   "cell_type": "code",
   "execution_count": null,
   "id": "379c3b68",
   "metadata": {},
   "outputs": [
    {
     "data": {
      "text/html": [
       "<div>\n",
       "<style scoped>\n",
       "    .dataframe tbody tr th:only-of-type {\n",
       "        vertical-align: middle;\n",
       "    }\n",
       "\n",
       "    .dataframe tbody tr th {\n",
       "        vertical-align: top;\n",
       "    }\n",
       "\n",
       "    .dataframe thead th {\n",
       "        text-align: right;\n",
       "    }\n",
       "</style>\n",
       "<table border=\"1\" class=\"dataframe\">\n",
       "  <thead>\n",
       "    <tr style=\"text-align: right;\">\n",
       "      <th></th>\n",
       "      <th>Sub Category</th>\n",
       "      <th>Discount</th>\n",
       "      <th>Profit</th>\n",
       "    </tr>\n",
       "  </thead>\n",
       "  <tbody>\n",
       "    <tr>\n",
       "      <th>13</th>\n",
       "      <td>Health Drinks</td>\n",
       "      <td>166.49</td>\n",
       "      <td>267469.79</td>\n",
       "    </tr>\n",
       "    <tr>\n",
       "      <th>21</th>\n",
       "      <td>Soft Drinks</td>\n",
       "      <td>155.97</td>\n",
       "      <td>258135.97</td>\n",
       "    </tr>\n",
       "    <tr>\n",
       "      <th>6</th>\n",
       "      <td>Cookies</td>\n",
       "      <td>113.72</td>\n",
       "      <td>190643.70</td>\n",
       "    </tr>\n",
       "    <tr>\n",
       "      <th>2</th>\n",
       "      <td>Breads &amp; Buns</td>\n",
       "      <td>113.70</td>\n",
       "      <td>190764.98</td>\n",
       "    </tr>\n",
       "    <tr>\n",
       "      <th>5</th>\n",
       "      <td>Chocolates</td>\n",
       "      <td>112.60</td>\n",
       "      <td>183849.34</td>\n",
       "    </tr>\n",
       "    <tr>\n",
       "      <th>16</th>\n",
       "      <td>Noodles</td>\n",
       "      <td>109.86</td>\n",
       "      <td>193685.81</td>\n",
       "    </tr>\n",
       "    <tr>\n",
       "      <th>14</th>\n",
       "      <td>Masalas</td>\n",
       "      <td>103.65</td>\n",
       "      <td>168999.11</td>\n",
       "    </tr>\n",
       "    <tr>\n",
       "      <th>8</th>\n",
       "      <td>Edible Oil &amp; Ghee</td>\n",
       "      <td>103.51</td>\n",
       "      <td>168593.58</td>\n",
       "    </tr>\n",
       "    <tr>\n",
       "      <th>1</th>\n",
       "      <td>Biscuits</td>\n",
       "      <td>103.29</td>\n",
       "      <td>169357.62</td>\n",
       "    </tr>\n",
       "    <tr>\n",
       "      <th>3</th>\n",
       "      <td>Cakes</td>\n",
       "      <td>101.54</td>\n",
       "      <td>168398.46</td>\n",
       "    </tr>\n",
       "    <tr>\n",
       "      <th>22</th>\n",
       "      <td>Spices</td>\n",
       "      <td>98.42</td>\n",
       "      <td>160302.60</td>\n",
       "    </tr>\n",
       "    <tr>\n",
       "      <th>15</th>\n",
       "      <td>Mutton</td>\n",
       "      <td>89.14</td>\n",
       "      <td>151389.40</td>\n",
       "    </tr>\n",
       "    <tr>\n",
       "      <th>18</th>\n",
       "      <td>Organic Staples</td>\n",
       "      <td>86.02</td>\n",
       "      <td>144136.89</td>\n",
       "    </tr>\n",
       "    <tr>\n",
       "      <th>9</th>\n",
       "      <td>Eggs</td>\n",
       "      <td>85.69</td>\n",
       "      <td>144669.92</td>\n",
       "    </tr>\n",
       "    <tr>\n",
       "      <th>10</th>\n",
       "      <td>Fish</td>\n",
       "      <td>84.92</td>\n",
       "      <td>147248.01</td>\n",
       "    </tr>\n",
       "    <tr>\n",
       "      <th>11</th>\n",
       "      <td>Fresh Fruits</td>\n",
       "      <td>83.66</td>\n",
       "      <td>134668.35</td>\n",
       "    </tr>\n",
       "    <tr>\n",
       "      <th>19</th>\n",
       "      <td>Organic Vegetables</td>\n",
       "      <td>81.37</td>\n",
       "      <td>133596.37</td>\n",
       "    </tr>\n",
       "    <tr>\n",
       "      <th>12</th>\n",
       "      <td>Fresh Vegetables</td>\n",
       "      <td>81.30</td>\n",
       "      <td>131273.33</td>\n",
       "    </tr>\n",
       "    <tr>\n",
       "      <th>0</th>\n",
       "      <td>Atta &amp; Flour</td>\n",
       "      <td>80.44</td>\n",
       "      <td>127861.10</td>\n",
       "    </tr>\n",
       "    <tr>\n",
       "      <th>4</th>\n",
       "      <td>Chicken</td>\n",
       "      <td>79.66</td>\n",
       "      <td>124049.89</td>\n",
       "    </tr>\n",
       "    <tr>\n",
       "      <th>17</th>\n",
       "      <td>Organic Fruits</td>\n",
       "      <td>78.81</td>\n",
       "      <td>130862.33</td>\n",
       "    </tr>\n",
       "    <tr>\n",
       "      <th>7</th>\n",
       "      <td>Dals &amp; Pulses</td>\n",
       "      <td>77.51</td>\n",
       "      <td>130232.29</td>\n",
       "    </tr>\n",
       "    <tr>\n",
       "      <th>20</th>\n",
       "      <td>Rice</td>\n",
       "      <td>75.54</td>\n",
       "      <td>126932.36</td>\n",
       "    </tr>\n",
       "  </tbody>\n",
       "</table>\n",
       "</div>"
      ],
      "text/plain": [
       "          Sub Category  Discount     Profit\n",
       "13       Health Drinks    166.49  267469.79\n",
       "21         Soft Drinks    155.97  258135.97\n",
       "6              Cookies    113.72  190643.70\n",
       "2        Breads & Buns    113.70  190764.98\n",
       "5           Chocolates    112.60  183849.34\n",
       "16             Noodles    109.86  193685.81\n",
       "14             Masalas    103.65  168999.11\n",
       "8    Edible Oil & Ghee    103.51  168593.58\n",
       "1             Biscuits    103.29  169357.62\n",
       "3                Cakes    101.54  168398.46\n",
       "22              Spices     98.42  160302.60\n",
       "15              Mutton     89.14  151389.40\n",
       "18     Organic Staples     86.02  144136.89\n",
       "9                 Eggs     85.69  144669.92\n",
       "10                Fish     84.92  147248.01\n",
       "11        Fresh Fruits     83.66  134668.35\n",
       "19  Organic Vegetables     81.37  133596.37\n",
       "12    Fresh Vegetables     81.30  131273.33\n",
       "0         Atta & Flour     80.44  127861.10\n",
       "4              Chicken     79.66  124049.89\n",
       "17      Organic Fruits     78.81  130862.33\n",
       "7        Dals & Pulses     77.51  130232.29\n",
       "20                Rice     75.54  126932.36"
      ]
     },
     "execution_count": 32,
     "metadata": {},
     "output_type": "execute_result"
    }
   ],
   "source": [
    "## 7) Which sub-categories have the highest discount but lowest profit margin ?\n",
    "\n",
    "Sub_Categories = data.groupby(\"Sub Category\")[[\"Discount\",\"Profit\"]].sum().reset_index().sort_values(by=[\"Discount\",\"Profit\"],ascending=[False,True])\n",
    "\n",
    "Sub_Categories"
   ]
  },
  {
   "cell_type": "code",
   "execution_count": 35,
   "id": "3d1815f9",
   "metadata": {},
   "outputs": [
    {
     "data": {
      "text/html": [
       "<div>\n",
       "<style scoped>\n",
       "    .dataframe tbody tr th:only-of-type {\n",
       "        vertical-align: middle;\n",
       "    }\n",
       "\n",
       "    .dataframe tbody tr th {\n",
       "        vertical-align: top;\n",
       "    }\n",
       "\n",
       "    .dataframe thead th {\n",
       "        text-align: right;\n",
       "    }\n",
       "</style>\n",
       "<table border=\"1\" class=\"dataframe\">\n",
       "  <thead>\n",
       "    <tr style=\"text-align: right;\">\n",
       "      <th></th>\n",
       "      <th>Category</th>\n",
       "      <th>Month</th>\n",
       "      <th>Sales</th>\n",
       "    </tr>\n",
       "  </thead>\n",
       "  <tbody>\n",
       "    <tr>\n",
       "      <th>82</th>\n",
       "      <td>Snacks</td>\n",
       "      <td>11</td>\n",
       "      <td>290312</td>\n",
       "    </tr>\n",
       "    <tr>\n",
       "      <th>34</th>\n",
       "      <td>Eggs, Meat &amp; Fish</td>\n",
       "      <td>11</td>\n",
       "      <td>269021</td>\n",
       "    </tr>\n",
       "    <tr>\n",
       "      <th>22</th>\n",
       "      <td>Beverages</td>\n",
       "      <td>11</td>\n",
       "      <td>262845</td>\n",
       "    </tr>\n",
       "    <tr>\n",
       "      <th>32</th>\n",
       "      <td>Eggs, Meat &amp; Fish</td>\n",
       "      <td>9</td>\n",
       "      <td>262519</td>\n",
       "    </tr>\n",
       "    <tr>\n",
       "      <th>8</th>\n",
       "      <td>Bakery</td>\n",
       "      <td>9</td>\n",
       "      <td>261931</td>\n",
       "    </tr>\n",
       "    <tr>\n",
       "      <th>...</th>\n",
       "      <td>...</td>\n",
       "      <td>...</td>\n",
       "      <td>...</td>\n",
       "    </tr>\n",
       "    <tr>\n",
       "      <th>37</th>\n",
       "      <td>Food Grains</td>\n",
       "      <td>2</td>\n",
       "      <td>117297</td>\n",
       "    </tr>\n",
       "    <tr>\n",
       "      <th>65</th>\n",
       "      <td>Oil &amp; Masala</td>\n",
       "      <td>6</td>\n",
       "      <td>114816</td>\n",
       "    </tr>\n",
       "    <tr>\n",
       "      <th>13</th>\n",
       "      <td>Beverages</td>\n",
       "      <td>2</td>\n",
       "      <td>112977</td>\n",
       "    </tr>\n",
       "    <tr>\n",
       "      <th>0</th>\n",
       "      <td>Bakery</td>\n",
       "      <td>1</td>\n",
       "      <td>109529</td>\n",
       "    </tr>\n",
       "    <tr>\n",
       "      <th>1</th>\n",
       "      <td>Bakery</td>\n",
       "      <td>2</td>\n",
       "      <td>90297</td>\n",
       "    </tr>\n",
       "  </tbody>\n",
       "</table>\n",
       "<p>84 rows × 3 columns</p>\n",
       "</div>"
      ],
      "text/plain": [
       "             Category  Month   Sales\n",
       "82             Snacks     11  290312\n",
       "34  Eggs, Meat & Fish     11  269021\n",
       "22          Beverages     11  262845\n",
       "32  Eggs, Meat & Fish      9  262519\n",
       "8              Bakery      9  261931\n",
       "..                ...    ...     ...\n",
       "37        Food Grains      2  117297\n",
       "65       Oil & Masala      6  114816\n",
       "13          Beverages      2  112977\n",
       "0              Bakery      1  109529\n",
       "1              Bakery      2   90297\n",
       "\n",
       "[84 rows x 3 columns]"
      ]
     },
     "execution_count": 35,
     "metadata": {},
     "output_type": "execute_result"
    }
   ],
   "source": [
    "## Q.8) Which products/categories are sold the most during each month or season ?\n",
    "\n",
    "Month_Sold = data.groupby([\"Category\",\"Month\"])[\"Sales\"].sum().reset_index().sort_values(by='Sales', ascending= False)\n",
    "\n",
    "Month_Sold.columns = [\"Category\",\"Month\",\"Sales\"]\n",
    "Month_Sold"
   ]
  },
  {
   "cell_type": "code",
   "execution_count": 47,
   "id": "b88e809b",
   "metadata": {},
   "outputs": [
    {
     "data": {
      "text/plain": [
       "Text(0.5, 1.0, 'Categories Sold By Each Month')"
      ]
     },
     "execution_count": 47,
     "metadata": {},
     "output_type": "execute_result"
    },
    {
     "data": {
      "image/png": "[encoded data removed]",
      "text/plain": [
       "<Figure size 1200x600 with 1 Axes>"
      ]
     },
     "metadata": {},
     "output_type": "display_data"
    }
   ],
   "source": [
    "plt.figure(figsize=(12,6))\n",
    "sns.barplot(data = Month_Sold , x = \"Category\", y = \"Sales\",hue= \"Month\",palette= \"rainbow\")\n",
    "plt.title(\"Categories Sold By Each Month\")"
   ]
  },
  {
   "cell_type": "code",
   "execution_count": 61,
   "id": "304f013f",
   "metadata": {},
   "outputs": [
    {
     "data": {
      "text/html": [
       "<div>\n",
       "<style scoped>\n",
       "    .dataframe tbody tr th:only-of-type {\n",
       "        vertical-align: middle;\n",
       "    }\n",
       "\n",
       "    .dataframe tbody tr th {\n",
       "        vertical-align: top;\n",
       "    }\n",
       "\n",
       "    .dataframe thead th {\n",
       "        text-align: right;\n",
       "    }\n",
       "</style>\n",
       "<table border=\"1\" class=\"dataframe\">\n",
       "  <thead>\n",
       "    <tr style=\"text-align: right;\">\n",
       "      <th></th>\n",
       "      <th>Region</th>\n",
       "      <th>Sales</th>\n",
       "    </tr>\n",
       "  </thead>\n",
       "  <tbody>\n",
       "    <tr>\n",
       "      <th>0</th>\n",
       "      <td>Central</td>\n",
       "      <td>1492.964270</td>\n",
       "    </tr>\n",
       "    <tr>\n",
       "      <th>1</th>\n",
       "      <td>East</td>\n",
       "      <td>1491.702247</td>\n",
       "    </tr>\n",
       "    <tr>\n",
       "      <th>2</th>\n",
       "      <td>North</td>\n",
       "      <td>1254.000000</td>\n",
       "    </tr>\n",
       "    <tr>\n",
       "      <th>3</th>\n",
       "      <td>South</td>\n",
       "      <td>1507.387894</td>\n",
       "    </tr>\n",
       "    <tr>\n",
       "      <th>4</th>\n",
       "      <td>West</td>\n",
       "      <td>1498.202623</td>\n",
       "    </tr>\n",
       "  </tbody>\n",
       "</table>\n",
       "</div>"
      ],
      "text/plain": [
       "    Region        Sales\n",
       "0  Central  1492.964270\n",
       "1     East  1491.702247\n",
       "2    North  1254.000000\n",
       "3    South  1507.387894\n",
       "4     West  1498.202623"
      ]
     },
     "execution_count": 61,
     "metadata": {},
     "output_type": "execute_result"
    }
   ],
   "source": [
    "## Q.9) What is the average order value (AOV) across different regions ?\n",
    "\n",
    "Avg_Of_Regoins = data.groupby(\"Region\")[\"Sales\"].mean().reset_index()\n",
    "Avg_Of_Regoins.columns = [\"Region\",\"Sales\"] \n",
    "Avg_Of_Regoins"
   ]
  },
  {
   "cell_type": "code",
   "execution_count": 64,
   "id": "1389c7e0",
   "metadata": {},
   "outputs": [
    {
     "data": {
      "text/plain": [
       "<Axes: xlabel='Region', ylabel='Sales'>"
      ]
     },
     "execution_count": 64,
     "metadata": {},
     "output_type": "execute_result"
    },
    {
     "data": {
      "image/png": "[encoded data removed]",
      "text/plain": [
       "<Figure size 640x480 with 1 Axes>"
      ]
     },
     "metadata": {},
     "output_type": "display_data"
    }
   ],
   "source": [
    "sns.barplot(data=Avg_Of_Regoins,x=\"Region\",y=\"Sales\",palette=\"rainbow\")"
   ]
  },
  {
   "cell_type": "code",
   "execution_count": 14,
   "id": "e6b5f4bb",
   "metadata": {},
   "outputs": [],
   "source": [
    "\n",
    "data[\"Day_Of_Week\"] = data[\"Order Date\"].dt.day_of_week"
   ]
  },
  {
   "cell_type": "code",
   "execution_count": 17,
   "id": "5a0baf99",
   "metadata": {},
   "outputs": [
    {
     "data": {
      "text/html": [
       "<div>\n",
       "<style scoped>\n",
       "    .dataframe tbody tr th:only-of-type {\n",
       "        vertical-align: middle;\n",
       "    }\n",
       "\n",
       "    .dataframe tbody tr th {\n",
       "        vertical-align: top;\n",
       "    }\n",
       "\n",
       "    .dataframe thead th {\n",
       "        text-align: right;\n",
       "    }\n",
       "</style>\n",
       "<table border=\"1\" class=\"dataframe\">\n",
       "  <thead>\n",
       "    <tr style=\"text-align: right;\">\n",
       "      <th></th>\n",
       "      <th>Day_Of_Week</th>\n",
       "      <th>Sales</th>\n",
       "    </tr>\n",
       "  </thead>\n",
       "  <tbody>\n",
       "    <tr>\n",
       "      <th>1</th>\n",
       "      <td>1</td>\n",
       "      <td>2656557</td>\n",
       "    </tr>\n",
       "    <tr>\n",
       "      <th>0</th>\n",
       "      <td>0</td>\n",
       "      <td>2420377</td>\n",
       "    </tr>\n",
       "    <tr>\n",
       "      <th>5</th>\n",
       "      <td>5</td>\n",
       "      <td>2416837</td>\n",
       "    </tr>\n",
       "    <tr>\n",
       "      <th>6</th>\n",
       "      <td>6</td>\n",
       "      <td>2382962</td>\n",
       "    </tr>\n",
       "    <tr>\n",
       "      <th>2</th>\n",
       "      <td>2</td>\n",
       "      <td>2031779</td>\n",
       "    </tr>\n",
       "    <tr>\n",
       "      <th>4</th>\n",
       "      <td>4</td>\n",
       "      <td>1705584</td>\n",
       "    </tr>\n",
       "    <tr>\n",
       "      <th>3</th>\n",
       "      <td>3</td>\n",
       "      <td>1342886</td>\n",
       "    </tr>\n",
       "  </tbody>\n",
       "</table>\n",
       "</div>"
      ],
      "text/plain": [
       "   Day_Of_Week    Sales\n",
       "1            1  2656557\n",
       "0            0  2420377\n",
       "5            5  2416837\n",
       "6            6  2382962\n",
       "2            2  2031779\n",
       "4            4  1705584\n",
       "3            3  1342886"
      ]
     },
     "execution_count": 17,
     "metadata": {},
     "output_type": "execute_result"
    }
   ],
   "source": [
    "## Q.10) Which day of the week has the highest sales orders ?\n",
    "\n",
    "Day_Of_Week_Sales = data.groupby(\"Day_Of_Week\")[\"Sales\"].sum().reset_index().sort_values(by=\"Sales\",ascending= False)\n",
    "\n",
    "Day_Of_Week_Sales.columns = [\"Day_Of_Week\",\"Sales\"]\n",
    "\n",
    "Day_Of_Week_Sales"
   ]
  },
  {
   "cell_type": "code",
   "execution_count": 16,
   "id": "9df52329",
   "metadata": {},
   "outputs": [
    {
     "data": {
      "text/plain": [
       "<Axes: title={'center': 'Day Of Week Sales Distribution '}, xlabel='Day_Of_Week', ylabel='Sales'>"
      ]
     },
     "execution_count": 16,
     "metadata": {},
     "output_type": "execute_result"
    },
    {
     "data": {
      "image/png": "[encoded data removed]",
      "text/plain": [
       "<Figure size 640x480 with 1 Axes>"
      ]
     },
     "metadata": {},
     "output_type": "display_data"
    }
   ],
   "source": [
    "plt.title(\"Day Of Week Sales Distribution \")\n",
    "sns.barplot(data = Day_Of_Week_Sales, x= \"Day_Of_Week\", y=\"Sales\",palette=\"coolwarm\")\n"
   ]
  },
  {
   "cell_type": "markdown",
   "id": "55740fff",
   "metadata": {},
   "source": [
    "## 📅 Time-based Analysis"
   ]
  },
  {
   "cell_type": "code",
   "execution_count": 44,
   "id": "ae5db0f7",
   "metadata": {},
   "outputs": [
    {
     "data": {
      "text/html": [
       "<div>\n",
       "<style scoped>\n",
       "    .dataframe tbody tr th:only-of-type {\n",
       "        vertical-align: middle;\n",
       "    }\n",
       "\n",
       "    .dataframe tbody tr th {\n",
       "        vertical-align: top;\n",
       "    }\n",
       "\n",
       "    .dataframe thead th {\n",
       "        text-align: right;\n",
       "    }\n",
       "</style>\n",
       "<table border=\"1\" class=\"dataframe\">\n",
       "  <thead>\n",
       "    <tr style=\"text-align: right;\">\n",
       "      <th></th>\n",
       "      <th>Month_name</th>\n",
       "      <th>Sales</th>\n",
       "    </tr>\n",
       "  </thead>\n",
       "  <tbody>\n",
       "    <tr>\n",
       "      <th>9</th>\n",
       "      <td>November</td>\n",
       "      <td>1794831</td>\n",
       "    </tr>\n",
       "  </tbody>\n",
       "</table>\n",
       "</div>"
      ],
      "text/plain": [
       "  Month_name    Sales\n",
       "9   November  1794831"
      ]
     },
     "execution_count": 44,
     "metadata": {},
     "output_type": "execute_result"
    }
   ],
   "source": [
    "## Q.11) Which month had the highest sales ?\n",
    "\n",
    "data[\"Month_name\"] = data[\"Order Date\"].dt.month_name()\n",
    "data[\"Month_name\"]\n",
    "\n",
    "data.groupby(\"Month_name\")[\"Sales\"].sum().reset_index().sort_values(by=\"Sales\",ascending=False).head(1)"
   ]
  },
  {
   "cell_type": "code",
   "execution_count": 48,
   "id": "a0e39033",
   "metadata": {},
   "outputs": [
    {
     "data": {
      "text/html": [
       "<div>\n",
       "<style scoped>\n",
       "    .dataframe tbody tr th:only-of-type {\n",
       "        vertical-align: middle;\n",
       "    }\n",
       "\n",
       "    .dataframe tbody tr th {\n",
       "        vertical-align: top;\n",
       "    }\n",
       "\n",
       "    .dataframe thead th {\n",
       "        text-align: right;\n",
       "    }\n",
       "</style>\n",
       "<table border=\"1\" class=\"dataframe\">\n",
       "  <thead>\n",
       "    <tr style=\"text-align: right;\">\n",
       "      <th></th>\n",
       "      <th>Day_Of_Week</th>\n",
       "      <th>Sales</th>\n",
       "    </tr>\n",
       "  </thead>\n",
       "  <tbody>\n",
       "    <tr>\n",
       "      <th>1</th>\n",
       "      <td>1</td>\n",
       "      <td>2656557</td>\n",
       "    </tr>\n",
       "  </tbody>\n",
       "</table>\n",
       "</div>"
      ],
      "text/plain": [
       "   Day_Of_Week    Sales\n",
       "1            1  2656557"
      ]
     },
     "execution_count": 48,
     "metadata": {},
     "output_type": "execute_result"
    }
   ],
   "source": [
    "## Q.12) On which day of the week are sales the highest ?\n",
    "\n",
    "data[\"Day_Of_Week\"] = data[\"Order Date\"].dt.day_of_week\n",
    "data[\"Day_Of_Week\"]\n",
    "\n",
    "data.groupby(\"Day_Of_Week\")[\"Sales\"].sum().reset_index().sort_values(by=\"Sales\",ascending=False).head(1)"
   ]
  },
  {
   "cell_type": "code",
   "execution_count": 54,
   "id": "b1bca9d9",
   "metadata": {},
   "outputs": [
    {
     "data": {
      "text/html": [
       "<div>\n",
       "<style scoped>\n",
       "    .dataframe tbody tr th:only-of-type {\n",
       "        vertical-align: middle;\n",
       "    }\n",
       "\n",
       "    .dataframe tbody tr th {\n",
       "        vertical-align: top;\n",
       "    }\n",
       "\n",
       "    .dataframe thead th {\n",
       "        text-align: right;\n",
       "    }\n",
       "</style>\n",
       "<table border=\"1\" class=\"dataframe\">\n",
       "  <thead>\n",
       "    <tr style=\"text-align: right;\">\n",
       "      <th></th>\n",
       "      <th>City</th>\n",
       "      <th>Sales</th>\n",
       "    </tr>\n",
       "  </thead>\n",
       "  <tbody>\n",
       "    <tr>\n",
       "      <th>6</th>\n",
       "      <td>Kanyakumari</td>\n",
       "      <td>706764</td>\n",
       "    </tr>\n",
       "  </tbody>\n",
       "</table>\n",
       "</div>"
      ],
      "text/plain": [
       "          City   Sales\n",
       "6  Kanyakumari  706764"
      ]
     },
     "execution_count": 54,
     "metadata": {},
     "output_type": "execute_result"
    }
   ],
   "source": [
    "## Q.13) Which City has the highest revenue growth over time ?\n",
    "\n",
    "data.groupby(\"City\")[\"Sales\"].sum().reset_index().sort_values(by=\"Sales\",ascending=False).head(1)"
   ]
  },
  {
   "cell_type": "markdown",
   "id": "f1bbc141",
   "metadata": {},
   "source": [
    "## 📈 Advanced Insights"
   ]
  },
  {
   "cell_type": "code",
   "execution_count": 36,
   "id": "ddeaca7c",
   "metadata": {},
   "outputs": [
    {
     "data": {
      "text/html": [
       "<div>\n",
       "<style scoped>\n",
       "    .dataframe tbody tr th:only-of-type {\n",
       "        vertical-align: middle;\n",
       "    }\n",
       "\n",
       "    .dataframe tbody tr th {\n",
       "        vertical-align: top;\n",
       "    }\n",
       "\n",
       "    .dataframe thead th {\n",
       "        text-align: right;\n",
       "    }\n",
       "</style>\n",
       "<table border=\"1\" class=\"dataframe\">\n",
       "  <thead>\n",
       "    <tr style=\"text-align: right;\">\n",
       "      <th></th>\n",
       "      <th>Region</th>\n",
       "      <th>Sales</th>\n",
       "    </tr>\n",
       "  </thead>\n",
       "  <tbody>\n",
       "    <tr>\n",
       "      <th>4</th>\n",
       "      <td>West</td>\n",
       "      <td>4798743</td>\n",
       "    </tr>\n",
       "    <tr>\n",
       "      <th>1</th>\n",
       "      <td>East</td>\n",
       "      <td>4248368</td>\n",
       "    </tr>\n",
       "    <tr>\n",
       "      <th>0</th>\n",
       "      <td>Central</td>\n",
       "      <td>3468156</td>\n",
       "    </tr>\n",
       "    <tr>\n",
       "      <th>3</th>\n",
       "      <td>South</td>\n",
       "      <td>2440461</td>\n",
       "    </tr>\n",
       "    <tr>\n",
       "      <th>2</th>\n",
       "      <td>North</td>\n",
       "      <td>1254</td>\n",
       "    </tr>\n",
       "  </tbody>\n",
       "</table>\n",
       "</div>"
      ],
      "text/plain": [
       "    Region    Sales\n",
       "4     West  4798743\n",
       "1     East  4248368\n",
       "0  Central  3468156\n",
       "3    South  2440461\n",
       "2    North     1254"
      ]
     },
     "execution_count": 36,
     "metadata": {},
     "output_type": "execute_result"
    }
   ],
   "source": [
    "## Q.14) What percentage of total sales came from each Region method?\n",
    "\n",
    "Region_Revenue = data.groupby(\"Region\")[\"Sales\"].sum().reset_index().sort_values(by=\"Sales\",ascending=False)\n",
    "\n",
    "Region_Revenue.columns = [\"Region\",\"Sales\"]\n"
   ]
  },
  {
   "cell_type": "code",
   "execution_count": 47,
   "id": "8243e235",
   "metadata": {},
   "outputs": [
    {
     "data": {
      "text/plain": [
       "Text(0.5, 1.0, 'Percentage Distribution of Regions ')"
      ]
     },
     "execution_count": 47,
     "metadata": {},
     "output_type": "execute_result"
    },
    {
     "data": {
      "image/png": "[encoded data removed]",
      "text/plain": [
       "<Figure size 800x600 with 1 Axes>"
      ]
     },
     "metadata": {},
     "output_type": "display_data"
    }
   ],
   "source": [
    "plt.figure(figsize=(8,6))\n",
    "sns.countplot(data[\"Region\"],palette=\"rainbow\",stat=\"percent\")\n",
    "plt.title(\"Percentage Distribution of Regions \")"
   ]
  },
  {
   "cell_type": "markdown",
   "id": "f9209def",
   "metadata": {},
   "source": [
    "## Insights : \n",
    "\n",
    "### 1) Sales & Revenue Trends\n",
    "\n",
    "* Technology and Office Supplies categories contribute strongly to revenue, while Furniture shows lower profit margins.\n",
    "\n",
    "* Discounts often increase sales volume but reduce overall profitability.\n",
    "\n",
    "### 2) Customer & Product Insights\n",
    "\n",
    "* Corporate and Consumer segments generate the highest sales.\n",
    "\n",
    "* A few top-performing products drive a significant share of total revenue.\n",
    "\n",
    "* Some products are frequently sold at a loss due to heavy discounts.\n",
    "\n",
    "### 3) Regional & Time-Based Analysis\n",
    "\n",
    "* Sales are concentrated in urban/high-demand regions, with seasonal spikes (e.g., festivals, year-end).\n",
    "\n",
    "* Monthly/quarterly trends show clear peaks and dips, suggesting opportunities for targeted promotions."
   ]
  },
  {
   "cell_type": "markdown",
   "id": "e871a7ad",
   "metadata": {},
   "source": [
    "## Conclusion : \n",
    "\n",
    "### The analysis reveals that while sales are growing steadily, profitability is highly sensitive to discounts and varies widely across product categories. To maximize profit, the business should:\n",
    "\n",
    "* Optimize discounting strategies\n",
    "\n",
    "* Focus on high-margin products\n",
    "\n",
    "* Expand in underperforming but potential-rich regions"
   ]
  }
 ],
 "metadata": {
  "kernelspec": {
   "display_name": "Python 3",
   "language": "python",
   "name": "python3"
  },
  "language_info": {
   "codemirror_mode": {
    "name": "ipython",
    "version": 3
   },
   "file_extension": ".py",
   "mimetype": "text/x-python",
   "name": "python",
   "nbconvert_exporter": "python",
   "pygments_lexer": "ipython3",
   "version": "3.13.1"
  }
 },
 "nbformat": 4,
 "nbformat_minor": 5
}
